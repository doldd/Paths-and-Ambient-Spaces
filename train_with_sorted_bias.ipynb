{
 "cells": [
  {
   "cell_type": "code",
   "execution_count": 14,
   "metadata": {},
   "outputs": [
    {
     "name": "stdout",
     "output_type": "stream",
     "text": [
      "The autoreload extension is already loaded. To reload it, use:\n",
      "  %reload_ext autoreload\n"
     ]
    },
    {
     "data": {
      "text/plain": [
       "'--xla_force_host_platform_device_count=10'"
      ]
     },
     "execution_count": 14,
     "metadata": {},
     "output_type": "execute_result"
    }
   ],
   "source": [
    "import os\n",
    "os.environ[\"XLA_FLAGS\"] = \"--xla_force_host_platform_device_count=10\"\n",
    "# os.environ[\"XLA_FLAGS\"] = ('--xla_force_host_platform_device_count=10 '\n",
    "                        #    '--xla_dump_to=xla_dump/')\n",
    "os.environ[\"CUDA_VISIBLE_DEVICES\"] = \"0\"\n",
    "os.environ[\"XLA_PYTHON_CLIENT_MEM_FRACTION\"] = \".95\"\n",
    "\n",
    "import arviz as az\n",
    "import jax\n",
    "import jax.experimental\n",
    "import jax.numpy as jnp\n",
    "from jax import random\n",
    "import seaborn as sns\n",
    "from scipy.integrate import cumulative_trapezoid\n",
    "from jax import random\n",
    "from functools import partial\n",
    "import numpy as np\n",
    "import matplotlib.pyplot as plt\n",
    "from flax import linen as nn\n",
    "import optax\n",
    "import jax\n",
    "from jax import random, jit, grad\n",
    "import optax\n",
    "from tqdm import tqdm\n",
    "import matplotlib.pyplot as plt\n",
    "# Assuming equivalent JAX implementations\n",
    "from src.jax_subspace_curve import OrthoSpan, SubspaceModel, UniformTSubspace\n",
    "from src.jax_test_model import MLPModel\n",
    "import numpyro\n",
    "import numpyro.distributions as dist\n",
    "from numpyro import handlers\n",
    "import arviz as az\n",
    "from src.jax_subspace_sampling import init_curve_frame_cp, ortho_at_one_t\n",
    "from src.jax_subspace_curve import bezier_curve, pytree_to_matrix, vec_to_pytree\n",
    "import pandas as pd\n",
    "import wandb\n",
    "import time\n",
    "from jax_tqdm import scan_tqdm\n",
    "from src.utils import get_cp_w, get_data, get_samples_from_run, get_model_from_run_path\n",
    "from src.jax_subspace_curve import bezier_coeff_fn\n",
    "\n",
    "\n",
    "%load_ext autoreload\n",
    "%autoreload 2\n",
    "\n",
    "%env XLA_FLAGS\n",
    "\n",
    "#jax.devices(\"gpu\")"
   ]
  },
  {
   "cell_type": "code",
   "execution_count": 15,
   "metadata": {},
   "outputs": [
    {
     "name": "stdout",
     "output_type": "stream",
     "text": [
      "Figure size= [3.2489276324892766, 2.0079477038671003]\n"
     ]
    }
   ],
   "source": [
    "def get_figsize(columnwidth, wf=0.5, hf=(5.**0.5-1.0)/2.0, ):\n",
    "    \"\"\"Parameters:\n",
    "    - wf [float]:  width fraction in columnwidth units\n",
    "    - hf [float]:  height fraction in columnwidth units.\n",
    "                    Set by default to golden ratio.\n",
    "    - columnwidth [float]: width of the column in latex. Get this from LaTeX \n",
    "                            using \\showthe\\columnwidth\n",
    "    Returns:  [fig_width,fig_height]: that should be given to matplotlib\n",
    "    \"\"\"\n",
    "    fig_width_pt = columnwidth*wf\n",
    "    inches_per_pt = 1.0/72.27               # Convert pt to inch\n",
    "    fig_width = fig_width_pt*inches_per_pt  # width in inches\n",
    "    fig_height = fig_width*hf      # height in inches\n",
    "    return [fig_width, fig_height]\n",
    "\n",
    "\n",
    "fig_width_pt = 234.8  # Get this from LaTeX using \\showthe\\columnwidth\n",
    "inches_per_pt = 1.0/72.27               # Convert pt to inches\n",
    "golden_mean = (np.sqrt(5)-1.0)/2.0         # Aesthetic ratio\n",
    "fig_width = fig_width_pt*inches_per_pt  # width in inches\n",
    "fig_height = fig_width*golden_mean       # height in inches\n",
    "figsize = [fig_width, fig_height]\n",
    "print(\"Figure size=\", figsize)\n",
    "tex_fonts = {\n",
    "    # Use LaTeX to write all text\n",
    "    \"text.usetex\": True,\n",
    "    # \"text.latex.preamble\": r'\\usepackage{amsfonts}',\n",
    "    \"font.family\": \"Nimbus Sans\",\n",
    "    # Use 10pt font in plots, to match 10pt font in document\n",
    "    \"axes.labelsize\": 10,\n",
    "    \"font.size\": 10,\n",
    "    # Make the legend/label fonts a little smaller\n",
    "    \"legend.fontsize\": 9,\n",
    "    \"legend.title_fontsize\": 10,\n",
    "    \"xtick.labelsize\": 10,\n",
    "    \"ytick.labelsize\": 10,\n",
    "    \"figure.figsize\": figsize\n",
    "}\n",
    "plt.rcParams.update(tex_fonts)"
   ]
  },
  {
   "cell_type": "markdown",
   "metadata": {},
   "source": [
    "### load data"
   ]
  },
  {
   "cell_type": "code",
   "execution_count": 16,
   "metadata": {},
   "outputs": [
    {
     "name": "stdout",
     "output_type": "stream",
     "text": [
      "Data shapes: (56, 1) (56,) (33, 1) (33,)\n"
     ]
    },
    {
     "data": {
      "image/png": "[encoded data removed]",
      "text/plain": [
       "<Figure size 324.893x200.795 with 1 Axes>"
      ]
     },
     "metadata": {},
     "output_type": "display_data"
    }
   ],
   "source": [
    "# load data\n",
    "data = jnp.load('regression_data.npz')\n",
    "x = jnp.array(data['x'])\n",
    "y = jnp.array(data['y'])\n",
    "x_test_ = jnp.array(data['xt'])\n",
    "y_test_ = jnp.array(data['yt'])\n",
    "# Split the data into training and validation sets\n",
    "random_idx = jax.random.choice(random.PRNGKey(\n",
    "    0), x.shape[0], (int(x.shape[0]*0.2),), replace=False)\n",
    "x_val = x[random_idx]\n",
    "y_val = y[random_idx]\n",
    "x = x[np.setdiff1d(jnp.arange(x.shape[0]), random_idx)]\n",
    "y = y[np.setdiff1d(jnp.arange(y.shape[0]), random_idx)]\n",
    "\n",
    "plt.plot(x, y, 'o', label='train')\n",
    "plt.plot(x_val, y_val, 'd', label='valid')\n",
    "# Plot a subset of the test data\n",
    "subset_indices = jnp.arange(0, x_test_.shape[0], 2)\n",
    "plt.plot(x_test_[subset_indices], y_test_[\n",
    "         subset_indices], 'x', label='test subset')\n",
    "plt.legend()\n",
    "print(\"Data shapes:\", x.shape, y.shape, x_test_.shape, y_test_.shape)"
   ]
  },
  {
   "cell_type": "code",
   "execution_count": 17,
   "metadata": {},
   "outputs": [],
   "source": [
    "curve_params = {'k': 30,\n",
    "                'model_kwargs': {'depth': 3, 'width': 16, 'activation': 'relu'},\n",
    "                'n_samples': 10,\n",
    "                'lr': 0.001,\n",
    "                'num_epochs': 10000,\n",
    "                'use_validation': False,\n",
    "                'out_scale': 0.05,\n",
    "                'optimize_distparams': True\n",
    "                }"
   ]
  },
  {
   "cell_type": "code",
   "execution_count": 18,
   "metadata": {},
   "outputs": [
    {
     "name": "stdout",
     "output_type": "stream",
     "text": [
      "Data shapes: (70, 1) (70,) (33, 1) (33,)\n"
     ]
    },
    {
     "data": {
      "image/png": "[encoded data removed]",
      "text/plain": [
       "<Figure size 324.893x200.795 with 1 Axes>"
      ]
     },
     "metadata": {},
     "output_type": "display_data"
    }
   ],
   "source": [
    "def gen_data(rng_seed, curve_params, **kwargs):\n",
    "    rng_key = random.PRNGKey(rng_seed + 1133)\n",
    "    x = jnp.linspace(-2, 2, 100)\n",
    "    x = x[(jnp.abs(x) > 0.6)].reshape(-1, 1)\n",
    "\n",
    "    # define ground trouth model\n",
    "    rng_key, rng_init = random.split(rng_key)\n",
    "    model_gen = MLPModel(**curve_params['model_kwargs'])\n",
    "    params = model_gen.init(rng_init, x)\n",
    "\n",
    "    # generate train data\n",
    "    y_gt = model_gen.apply(params, x).squeeze()\n",
    "    rng_key, rng = random.split(rng_key)\n",
    "    y = y_gt + jax.random.normal(rng, y_gt.shape) * 0.05\n",
    "\n",
    "    # generate valid data\n",
    "    x_val = jnp.linspace(-2, 2, 25)\n",
    "    x_val = x_val[(jnp.abs(x_val) > 0.6)].reshape(-1, 1)\n",
    "    y_gt_val = model_gen.apply(params, x_val).squeeze()\n",
    "    rng_key, rng = random.split(rng_key)\n",
    "    y_val = y_gt_val + jax.random.normal(rng, y_gt_val.shape) * 0.05\n",
    "\n",
    "    xt = jnp.linspace(-2.5, 2.5, 33).reshape(-1, 1)\n",
    "    rng_key, rng = random.split(rng_key)\n",
    "    y_gtt = model_gen.apply(params, xt).squeeze()\n",
    "    yt = y_gtt + jax.random.normal(rng, y_gtt.shape) * 0.05\n",
    "\n",
    "    return x, y, x_val, y_val, xt, yt, y_gtt\n",
    "\n",
    "\n",
    "x, y, x_val, y_val, x_test_, y_test_, _ = gen_data(16, curve_params)\n",
    "\n",
    "plt.plot(x, y, 'o', label='train')\n",
    "plt.plot(x_val, y_val, 'd', label='valid')\n",
    "# Plot a subset of the test data\n",
    "subset_indices = jnp.arange(0, x_test_.shape[0], 2)\n",
    "plt.plot(x_test_[subset_indices], y_test_[\n",
    "         subset_indices], 'x', label='test subset')\n",
    "plt.legend()\n",
    "print(\"Data shapes:\", x.shape, y.shape, x_test_.shape, y_test_.shape)"
   ]
  },
  {
   "cell_type": "code",
   "execution_count": 19,
   "metadata": {},
   "outputs": [],
   "source": [
    "bezier_coeff_inv = bezier_coeff_fn(curve_params['k'])\n",
    "\n",
    "\n",
    "def get_d_bezier(t):\n",
    "    coeff = jax.vmap(bezier_coeff_inv)(t)\n",
    "\n",
    "    def clousure(cp):\n",
    "        n = cp.shape[0] - 1\n",
    "        cp_diff = cp[1:] - cp[:-1]\n",
    "        return jnp.einsum('tj,j...->t...', coeff, cp_diff) * n\n",
    "    return clousure\n",
    "\n",
    "\n",
    "@jit\n",
    "def bezier_length(cp):\n",
    "    t = jnp.linspace(0, 1, 1000)\n",
    "    d_bezier = get_d_bezier(t)\n",
    "    d_t = jnp.linalg.norm(d_bezier(cp), axis=-1)\n",
    "    length = jax.scipy.integrate.trapezoid(d_t, t)\n",
    "    return length"
   ]
  },
  {
   "cell_type": "markdown",
   "metadata": {},
   "source": [
    "### ascending bias functions"
   ]
  },
  {
   "cell_type": "code",
   "execution_count": 20,
   "metadata": {},
   "outputs": [
    {
     "data": {
      "text/plain": [
       "(Array(0.01005001, dtype=float32), Array(0.00100188, dtype=float32))"
      ]
     },
     "execution_count": 20,
     "metadata": {},
     "output_type": "execute_result"
    }
   ],
   "source": [
    "rng_key = random.PRNGKey(0)\n",
    "rng_key, sample_key = jax.random.split(rng_key)\n",
    "s = jax.random.normal(sample_key, (1000000,))/10 - 4.6\n",
    "jax.nn.softplus(s).mean(), jax.nn.softplus(s).std()"
   ]
  },
  {
   "cell_type": "code",
   "execution_count": 21,
   "metadata": {},
   "outputs": [
    {
     "data": {
      "text/plain": [
       "(Array([[ 1.8429084 ,  1.2368948 ,  0.6249425 ,  1.2353886 , -1.0533676 ],\n",
       "        [-0.37084433,  0.30201778, -0.3027605 ,  0.6017325 ,  1.0271428 ],\n",
       "        [-0.39748248,  0.05069933,  1.2804588 , -0.07814798, -1.4377463 ]],      dtype=float32),\n",
       " Array([[ 1.8429084 ,  3.3346658 ,  4.388329  ,  5.878919  ,  6.178106  ],\n",
       "        [-0.37084433,  0.48467055,  1.0378519 ,  2.076459  ,  3.4096358 ],\n",
       "        [-0.39748248,  0.32133564,  1.8470203 ,  2.5018568 ,  2.7149196 ]],      dtype=float32))"
      ]
     },
     "execution_count": 21,
     "metadata": {},
     "output_type": "execute_result"
    }
   ],
   "source": [
    "@jit\n",
    "def up_sorted(b):\n",
    "    bb = jax.nn.softplus(b)\n",
    "    bb = bb.at[..., 0].set(b[..., 0])\n",
    "    # b = b.at[..., 1:].apply(jax.nn.softplus) # because of derivative error of apply softplus (scatter_apply JVP not implemented)\n",
    "    return jnp.cumsum(bb, axis=-1)\n",
    "    # return bb @ jnp.tri(bb.shape[-1]).T       # slower\n",
    "\n",
    "def print_all_biases(p):\n",
    "    def print_bias(path, p):\n",
    "        if \"bias\" in path[-1].key:\n",
    "            print(f\"bias {p}\")\n",
    "    jax.tree_util.tree_map_with_path(print_bias, p)\n",
    "\n",
    "@jit\n",
    "def bias_ascending(params):\n",
    "    def bias_sort(path, p):\n",
    "        if \"bias\" in path[-1].key:\n",
    "            return up_sorted(p)\n",
    "        else:\n",
    "            return p\n",
    "    return jax.tree_util.tree_map_with_path(bias_sort, params)\n",
    "\n",
    "def initialize_bias(rng_key, params):\n",
    "    key = rng_key\n",
    "    def bias_sorted_init(path, p):\n",
    "        nonlocal key\n",
    "        # if \"bias\" in path[-1].key:\n",
    "        #     key, sample_key = jax.random.split(key)\n",
    "        #     b = jax.random.normal(sample_key, (p.shape[-1]-1,))-2.68\n",
    "        #     p = p.at[..., 1:].set(b)\n",
    "        #     p = p.at[..., 0].set(-0.1*p.shape[1]/2)\n",
    "        #     return p\n",
    "        # if \"bias\" in path[-1].key:\n",
    "        #     key, sample_key = jax.random.split(key)\n",
    "        #     b = jax.random.normal(sample_key, (p.shape[-1]-1,))/10-4.6\n",
    "        #     p = p.at[..., 1:].set(b)\n",
    "        #     p = p.at[..., 0].set(-0.01*p.shape[1]/2)\n",
    "        #     return p\n",
    "        if \"bias\" in path[-1].key:\n",
    "            key, sample_key = jax.random.split(key)\n",
    "            b = jax.random.normal(sample_key, (p.shape[-1]-1,))/10-100\n",
    "            p = p.at[..., 1:].set(b)\n",
    "            p = p.at[..., 0].set(-0.0*p.shape[1]/2)\n",
    "            return p\n",
    "        else:\n",
    "            return p\n",
    "    return jax.tree_util.tree_map_with_path(bias_sorted_init, params)\n",
    "\n",
    "b = jax.random.normal(rng_key, (3, 5))\n",
    "b, up_sorted(b)"
   ]
  },
  {
   "cell_type": "code",
   "execution_count": 22,
   "metadata": {},
   "outputs": [],
   "source": [
    "class SubspaceModelPermFree(SubspaceModel):\n",
    "    @partial(jit, static_argnums=(0,))\n",
    "    def __call__(self, params, t, x):\n",
    "        \"\"\"\n",
    "        Computes the output of the model for given parameters, time, and input.\n",
    "\n",
    "        Parameters:\n",
    "        - params: The parameters of the model.\n",
    "        - t: The time parameter.\n",
    "        - x: The input data.\n",
    "\n",
    "        Returns:\n",
    "        - The output of the model.\n",
    "\n",
    "        \"\"\"\n",
    "        # sample Bezier coefficient\n",
    "        bezier_coeff = self.bezier(t)\n",
    "        # Compute one parameter set per sample\n",
    "        sample_param = jax.tree.map(lambda p: jnp.einsum(\n",
    "            'sk,k...->s...', bezier_coeff, p), params)\n",
    "        sample_param = dict(params=sample_param)\n",
    "        # transform biases' into bias which is sorted in ascending order \n",
    "        sample_param = bias_ascending(sample_param)\n",
    "        # forward pass per sample\n",
    "        out = jax.vmap(self.model.apply, in_axes=(0, None))(sample_param, x)\n",
    "        return out\n",
    "    "
   ]
  },
  {
   "cell_type": "markdown",
   "metadata": {},
   "source": [
    "### Bias ordering comparision"
   ]
  },
  {
   "cell_type": "markdown",
   "metadata": {},
   "source": [
    "#### with bias sorting"
   ]
  },
  {
   "cell_type": "code",
   "execution_count": 23,
   "metadata": {},
   "outputs": [
    {
     "data": {
      "application/vnd.jupyter.widget-view+json": {
       "model_id": "533b0e0a7e0b412cabc2ef9d1647df54",
       "version_major": 2,
       "version_minor": 0
      },
      "text/plain": [
       "  0%|          | 0/10000 [00:00<?, ?it/s]"
      ]
     },
     "metadata": {},
     "output_type": "display_data"
    }
   ],
   "source": [
    "# define model architecture\n",
    "model = MLPModel(**curve_params['model_kwargs'])\n",
    "\n",
    "# define the subspace model to optimize the path\n",
    "s_model = SubspaceModelPermFree(model,  # any model can be passed\n",
    "                                k=curve_params['k'],\n",
    "                                n_samples=curve_params['n_samples'],\n",
    "                                out_scale=curve_params['out_scale'],\n",
    "                                optimize_distparams=curve_params['optimize_distparams'])\n",
    "\n",
    "rng_key = random.PRNGKey(0)\n",
    "rng_key, init_key = random.split(rng_key)\n",
    "params_prime = s_model.init_params(init_key, x)\n",
    "\n",
    "# initialize bias for ascending order\n",
    "rng_key, init_key = random.split(rng_key)\n",
    "params_prime = initialize_bias(init_key, params_prime)\n",
    "\n",
    "# optimizer\n",
    "optimizer = optax.adam(learning_rate=curve_params['lr'])\n",
    "# dnn_parameters + dist_parameters\n",
    "opt_state = optimizer.init(params_prime)\n",
    "\n",
    "\n",
    "def comp_metric_set(x, y):\n",
    "    return lambda subkey, params: s_model.compute_loss(\n",
    "        subkey, params, x, y, n_samples=1000)\n",
    "comp_metric = comp_metric_set(x_val, y_val)\n",
    "\n",
    "\n",
    "# train loop\n",
    "@scan_tqdm(curve_params['num_epochs'])\n",
    "def train(carry, _):\n",
    "    rng_key, params, opt_state, best_loss, best_params, epoch, epoch_sel = carry\n",
    "    rng_key, subkey = random.split(rng_key)\n",
    "    loss, params, opt_state = s_model.train_step(\n",
    "        subkey, params, x, y, opt_state, optimizer)\n",
    "    # validate\n",
    "    rng_key, subkey = random.split(rng_key)\n",
    "    val_loss = comp_metric(subkey, params)\n",
    "    best_params, epoch_sel = jax.lax.cond(\n",
    "        val_loss < best_loss, lambda x: (params, epoch), lambda x: (best_params, epoch_sel), None)\n",
    "    best_loss = jnp.minimum(best_loss, val_loss)\n",
    "\n",
    "    cp_w = pytree_to_matrix(bias_ascending(params['params']), curve_params['k'])\n",
    "    length = bezier_length(cp_w)\n",
    "    return (rng_key, params, opt_state, best_loss, best_params, epoch+1, epoch_sel), (loss, val_loss, length, epoch)\n",
    "\n",
    "\n",
    "carry = (rng_key, params_prime, opt_state, np.inf, params_prime, 0, -1)\n",
    "carry, (losses, valid_losses, length, epochs) = jax.lax.scan(train, carry,\n",
    "                                                             jnp.arange(curve_params['num_epochs']))"
   ]
  },
  {
   "cell_type": "code",
   "execution_count": 24,
   "metadata": {},
   "outputs": [
    {
     "data": {
      "text/plain": [
       "Array(-1.738328, dtype=float32)"
      ]
     },
     "execution_count": 24,
     "metadata": {},
     "output_type": "execute_result"
    },
    {
     "data": {
      "image/png": "[encoded data removed]",
      "text/plain": [
       "<Figure size 324.893x200.795 with 1 Axes>"
      ]
     },
     "metadata": {},
     "output_type": "display_data"
    }
   ],
   "source": [
    "# fast overfitting\n",
    "plt.plot(losses, label='train')\n",
    "plt.plot(valid_losses, label='validation')\n",
    "plt.legend()\n",
    "plt.ylabel(\"nll\")\n",
    "plt.xlabel(\"epoch\")\n",
    "# plt.yscale('log')\n",
    "plt.ylim(-2, -1.)\n",
    "np.min(valid_losses)"
   ]
  },
  {
   "cell_type": "code",
   "execution_count": 25,
   "metadata": {},
   "outputs": [
    {
     "data": {
      "text/plain": [
       "Text(0.5, 0, 'epoch')"
      ]
     },
     "execution_count": 25,
     "metadata": {},
     "output_type": "execute_result"
    },
    {
     "data": {
      "image/png": "[encoded data removed]",
      "text/plain": [
       "<Figure size 324.893x200.795 with 1 Axes>"
      ]
     },
     "metadata": {},
     "output_type": "display_data"
    }
   ],
   "source": [
    "plt.plot(epochs, length, label='bias_ascend')\n",
    "plt.legend()\n",
    "plt.ylabel(\"length\")\n",
    "plt.xlabel(\"epoch\")\n",
    "# plt.yscale('log')\n",
    "# plt.ylim(-2, -1.)"
   ]
  },
  {
   "cell_type": "code",
   "execution_count": 26,
   "metadata": {},
   "outputs": [
    {
     "name": "stdout",
     "output_type": "stream",
     "text": [
      "Control points in phi space: (31, 30)\n"
     ]
    }
   ],
   "source": [
    "params_prime = carry[4]\n",
    "# get transformed bias params\n",
    "params = bias_ascending(params_prime)\n",
    "\n",
    "# get design matrix from curve parameters stroed as pytree\n",
    "cp_w = pytree_to_matrix(params['params'], curve_params['k'])\n",
    "# define the transformation function between weight space and phi space\n",
    "t_phi_to_weight = OrthoSpan(cp_w)\n",
    "# control points in the varphi space\n",
    "cp_phi = t_phi_to_weight.inv(cp_w)\n",
    "print(f\"Control points in phi space: {cp_phi.shape}\")"
   ]
  },
  {
   "cell_type": "code",
   "execution_count": 27,
   "metadata": {},
   "outputs": [
    {
     "data": {
      "text/plain": [
       "(1000, 16)"
      ]
     },
     "execution_count": 27,
     "metadata": {},
     "output_type": "execute_result"
    }
   ],
   "source": [
    "curve, d_curve = bezier_curve(curve_params['k']+1, cp_w)\n",
    "t = jnp.linspace(0, 1, 1000)\n",
    "\n",
    "def get_bias(t, layer):\n",
    "    pt = vec_to_pytree(curve(t), params['params'])\n",
    "    return pt[layer]['bias']\n",
    "\n",
    "\n",
    "biases = []\n",
    "for layer in params['params'].keys():\n",
    "    bias = jax.vmap(get_bias, in_axes=(0, None))(t, layer)\n",
    "    biases.append(bias)\n",
    "\n",
    "biases[0].shape"
   ]
  },
  {
   "cell_type": "code",
   "execution_count": 28,
   "metadata": {},
   "outputs": [
    {
     "data": {
      "image/png": "[encoded data removed]",
      "text/plain": [
       "<Figure size 324.893x602.384 with 6 Axes>"
      ]
     },
     "metadata": {},
     "output_type": "display_data"
    }
   ],
   "source": [
    "from matplotlib.colors import ListedColormap\n",
    "# Select SV\n",
    "def get_sorted_orderings(biases, layer):\n",
    "    sv_data = biases[layer]  # Shape: (Layer, Epochs, nrUnits)\n",
    "\n",
    "    # Step 1: Compute the order of the parameters for all epochs\n",
    "    orderings = np.argsort(sv_data, axis=1)  # Shape: (Epochs, nrUnits)\n",
    "    # Compute the average order for each parameter\n",
    "    average_order = np.mean(orderings, axis=0)\n",
    "    # Sort the parameters based on the average order\n",
    "    sorted_indices = np.argsort(average_order)\n",
    "    return orderings[:, sorted_indices].T, sorted_indices\n",
    "\n",
    "\n",
    "fig, axes = plt.subplots(3, 1, figsize=(figsize[0], figsize[1]*3))\n",
    "\n",
    "for i, ax in enumerate(axes):\n",
    "    orderings, sorted_indices = get_sorted_orderings(biases, i)\n",
    "    num_bias = biases[i].shape[1]\n",
    "\n",
    "    # Define a discrete colormap with 16 colors representing the order positions\n",
    "    cmap = ListedColormap(plt.get_cmap('coolwarm', num_bias)\n",
    "                          (np.arange(num_bias)[sorted_indices])) # reorder colors for correct color mapping\n",
    "    # cmap = plt.get_cmap('coolwarm', num_bias)\n",
    "\n",
    "    # Create the heatmap where rows are parameters and columns are epochs\n",
    "    img = ax.imshow(orderings, aspect='auto',\n",
    "                    interpolation='nearest', cmap=cmap)\n",
    "\n",
    "    # Customize the colorbar to represent the order positions\n",
    "    cbar = plt.colorbar(img, label='Order Position')\n",
    "    cbar.set_ticks(np.linspace(0.5, num_bias-1.5, 4))\n",
    "    cbar.set_ticklabels(np.arange(1, num_bias+1, 5))\n",
    "\n",
    "    ax.set_yticks(np.arange(0, num_bias, 2))\n",
    "    ax.set_yticklabels(np.arange(1, num_bias+1, 2))\n",
    "    ax.set_xticks([0,len(t)/2, len(t)-1])\n",
    "    ax.set_xticklabels([0, 0.5, 1])\n",
    "\n",
    "axes[-1].set_xlabel('t')\n",
    "axes[0].get_xaxis().set_visible(False)\n",
    "axes[1].get_xaxis().set_visible(False)\n",
    "axes[0].set_ylabel('Layer 1')\n",
    "axes[1].set_ylabel('Layer 2')\n",
    "axes[2].set_ylabel('Layer 3')\n",
    "plt.subplots_adjust(hspace=0.07)\n",
    "plt.savefig(\"figures/ascending_ordering_permFree.pdf\", bbox_inches='tight')"
   ]
  },
  {
   "cell_type": "code",
   "execution_count": 29,
   "metadata": {},
   "outputs": [
    {
     "name": "stdout",
     "output_type": "stream",
     "text": [
      "(1000, 500)\n"
     ]
    },
    {
     "data": {
      "image/png": "[encoded data removed]",
      "text/plain": [
       "<Figure size 324.893x200.795 with 2 Axes>"
      ]
     },
     "metadata": {},
     "output_type": "display_data"
    }
   ],
   "source": [
    "# plot predictive for onedimensional regression dataset\n",
    "fig, ax = plt.subplots()\n",
    "t_space = jnp.linspace(0, 1, 1000)\n",
    "x_lin = jnp.linspace(-3, 3, 500)[:, None]\n",
    "out = s_model(params_prime['params'], t_space, x_lin).squeeze(axis=-1)\n",
    "print(out.shape)\n",
    "ax.plot(x, y, 'o', label='train')\n",
    "# plt.fill_between(x.squeeze(), out.mean(axis=0) - out.std(axis=0), out.mean(axis=0) + out.std(axis=0), alpha=0.5)\n",
    "# plot lines using viridis color map\n",
    "colors = plt.cm.viridis(t_space)\n",
    "for o, c in zip(out, colors):\n",
    "    ax.plot(x_lin, o, color=c, alpha=0.3)\n",
    "ax.plot(x_lin, out.mean(axis=0), label='mean',\n",
    "        c='red', linewidth=2, alpha=0.8)\n",
    "ax.set_ylabel(\"y\")\n",
    "ax.set_xlabel(\"x\")\n",
    "# add colorbar\n",
    "sm = plt.cm.ScalarMappable(cmap='viridis', norm=plt.Normalize(\n",
    "    vmin=t_space.min(), vmax=t_space.max()))\n",
    "sm.set_array([])\n",
    "cbar = plt.colorbar(sm, ax=ax)\n",
    "cbar.set_label('t')\n",
    "plt.title(f\"k={curve_params['k']}\")\n",
    "plt.tight_layout()"
   ]
  },
  {
   "cell_type": "code",
   "execution_count": 30,
   "metadata": {},
   "outputs": [
    {
     "data": {
      "image/png": "[encoded data removed]",
      "text/plain": [
       "<Figure size 324.893x200.795 with 1 Axes>"
      ]
     },
     "metadata": {},
     "output_type": "display_data"
    }
   ],
   "source": [
    "fig, ax = plt.subplots()\n",
    "t_space = jnp.linspace(0.0, 1.0, 1000)\n",
    "ll = -s_model.nll(params_prime, t_space, x, y).mean(axis=-1)\n",
    "ax.plot(t_space, ll)\n",
    "ax.set_xlabel(\"t\")\n",
    "ax.set_ylabel(\"log like\")\n",
    "plt.tight_layout()"
   ]
  },
  {
   "cell_type": "code",
   "execution_count": 31,
   "metadata": {},
   "outputs": [
    {
     "data": {
      "text/plain": [
       "Array(-0.8114223, dtype=float32)"
      ]
     },
     "execution_count": 31,
     "metadata": {},
     "output_type": "execute_result"
    }
   ],
   "source": [
    "rng_key = carry[0]\n",
    "rng_key, subkey = jax.random.split(rng_key)\n",
    "test_loss = s_model.compute_loss(\n",
    "    subkey, params_prime, x_test_, y_test_, n_samples=100000)\n",
    "test_loss"
   ]
  },
  {
   "cell_type": "markdown",
   "metadata": {},
   "source": [
    "#### vanilla training \n",
    "without bias ascending"
   ]
  },
  {
   "cell_type": "code",
   "execution_count": 32,
   "metadata": {},
   "outputs": [
    {
     "data": {
      "application/vnd.jupyter.widget-view+json": {
       "model_id": "e28624f6918a479fa7ceceab9f30da0e",
       "version_major": 2,
       "version_minor": 0
      },
      "text/plain": [
       "  0%|          | 0/10000 [00:00<?, ?it/s]"
      ]
     },
     "metadata": {},
     "output_type": "display_data"
    }
   ],
   "source": [
    "# define model architecture\n",
    "model = MLPModel(**curve_params['model_kwargs'])\n",
    "\n",
    "# define the subspace model to optimize the path\n",
    "s_model = SubspaceModel(model,  # any model can be passed\n",
    "                                k=curve_params['k'],\n",
    "                                n_samples=curve_params['n_samples'],\n",
    "                                out_scale=curve_params['out_scale'],\n",
    "                                optimize_distparams=curve_params['optimize_distparams'])\n",
    "\n",
    "rng_key = random.PRNGKey(0)\n",
    "rng_key, init_key = random.split(rng_key)\n",
    "params = s_model.init_params(init_key, x)\n",
    "\n",
    "# optimizer\n",
    "optimizer = optax.adam(learning_rate=curve_params['lr'])\n",
    "# dnn_parameters + dist_parameters\n",
    "opt_state = optimizer.init(params)\n",
    "\n",
    "\n",
    "def comp_metric_set(x, y):\n",
    "    return lambda subkey, params: s_model.compute_loss(\n",
    "        subkey, params, x, y, n_samples=1000)\n",
    "comp_metric = comp_metric_set(x_val, y_val)\n",
    "\n",
    "\n",
    "# train loop\n",
    "@scan_tqdm(curve_params['num_epochs'])\n",
    "def train(carry, _):\n",
    "    rng_key, params, opt_state, best_loss, best_params, epoch, epoch_sel = carry\n",
    "    rng_key, subkey = random.split(rng_key)\n",
    "    loss, params, opt_state = s_model.train_step(\n",
    "        subkey, params, x, y, opt_state, optimizer)\n",
    "    # validate\n",
    "    rng_key, subkey = random.split(rng_key)\n",
    "    val_loss = comp_metric(subkey, params)\n",
    "    best_params, epoch_sel = jax.lax.cond(\n",
    "        val_loss < best_loss, lambda x: (params, epoch), lambda x: (best_params, epoch_sel), None)\n",
    "    best_loss = jnp.minimum(best_loss, val_loss)\n",
    "\n",
    "    cp_w = pytree_to_matrix(bias_ascending(params['params']), curve_params['k'])\n",
    "    length = bezier_length(cp_w)\n",
    "    return (rng_key, params, opt_state, best_loss, best_params, epoch+1, epoch_sel), (loss, val_loss, length, epoch)\n",
    "\n",
    "\n",
    "carry = (rng_key, params, opt_state, np.inf, params, 0, -1)\n",
    "carry, (losses_nb, valid_losses_nb, length_nb, epochs_nb) = jax.lax.scan(train, carry,\n",
    "                                                             jnp.arange(curve_params['num_epochs']))"
   ]
  },
  {
   "cell_type": "code",
   "execution_count": 33,
   "metadata": {},
   "outputs": [
    {
     "data": {
      "text/plain": [
       "(-2.0, -1.0)"
      ]
     },
     "execution_count": 33,
     "metadata": {},
     "output_type": "execute_result"
    },
    {
     "data": {
      "image/png": "[encoded data removed]",
      "text/plain": [
       "<Figure size 324.893x200.795 with 1 Axes>"
      ]
     },
     "metadata": {},
     "output_type": "display_data"
    }
   ],
   "source": [
    "# fast overfitting\n",
    "plt.plot(losses, label='train')\n",
    "plt.plot(valid_losses, label='validation')\n",
    "plt.legend()\n",
    "plt.ylabel(\"nll\")\n",
    "plt.xlabel(\"epoch\")\n",
    "# plt.yscale('log')\n",
    "plt.ylim(-2, -1.)"
   ]
  },
  {
   "cell_type": "code",
   "execution_count": 34,
   "metadata": {},
   "outputs": [
    {
     "data": {
      "text/plain": [
       "(-2.0, -1.0)"
      ]
     },
     "execution_count": 34,
     "metadata": {},
     "output_type": "execute_result"
    },
    {
     "data": {
      "image/png": "[encoded data removed]",
      "text/plain": [
       "<Figure size 324.893x200.795 with 1 Axes>"
      ]
     },
     "metadata": {},
     "output_type": "display_data"
    }
   ],
   "source": [
    "# fast overfitting\n",
    "plt.plot(losses_nb, label='train no Bias Ascending')\n",
    "plt.plot(valid_losses_nb, label='validation no Bias Ascending')\n",
    "plt.legend()\n",
    "plt.ylabel(\"nll\")\n",
    "plt.xlabel(\"epoch\")\n",
    "# plt.yscale('log')\n",
    "plt.ylim(-2, -1.)"
   ]
  },
  {
   "cell_type": "code",
   "execution_count": 35,
   "metadata": {},
   "outputs": [
    {
     "data": {
      "text/plain": [
       "Text(0.5, 0, 'epoch')"
      ]
     },
     "execution_count": 35,
     "metadata": {},
     "output_type": "execute_result"
    },
    {
     "data": {
      "image/png": "[encoded data removed]",
      "text/plain": [
       "<Figure size 324.893x200.795 with 1 Axes>"
      ]
     },
     "metadata": {},
     "output_type": "display_data"
    }
   ],
   "source": [
    "# fast overfitting\n",
    "plt.plot(epochs, length, label='bias_ascend')\n",
    "plt.plot(epochs_nb, length_nb, label='vanilla')\n",
    "plt.legend()\n",
    "plt.ylabel(\"length\")\n",
    "plt.xlabel(\"epoch\")\n",
    "# plt.yscale('log')\n",
    "# plt.ylim(-2, -1.)"
   ]
  },
  {
   "cell_type": "code",
   "execution_count": 36,
   "metadata": {},
   "outputs": [
    {
     "name": "stdout",
     "output_type": "stream",
     "text": [
      "Control points in phi space: (31, 30)\n"
     ]
    }
   ],
   "source": [
    "params = carry[4]\n",
    "\n",
    "# get design matrix from curve parameters stroed as pytree\n",
    "cp_w = pytree_to_matrix(params['params'], curve_params['k'])\n",
    "# define the transformation function between weight space and phi space\n",
    "t_phi_to_weight = OrthoSpan(cp_w)\n",
    "# control points in the varphi space\n",
    "cp_phi = t_phi_to_weight.inv(cp_w)\n",
    "print(f\"Control points in phi space: {cp_phi.shape}\")"
   ]
  },
  {
   "cell_type": "code",
   "execution_count": 37,
   "metadata": {},
   "outputs": [
    {
     "data": {
      "text/plain": [
       "(1000, 16)"
      ]
     },
     "execution_count": 37,
     "metadata": {},
     "output_type": "execute_result"
    }
   ],
   "source": [
    "curve, d_curve = bezier_curve(curve_params['k']+1, cp_w)\n",
    "t = jnp.linspace(0, 1, 1000)\n",
    "\n",
    "def get_bias(t, layer):\n",
    "    pt = vec_to_pytree(curve(t), params['params'])\n",
    "    return pt[layer]['bias']\n",
    "\n",
    "\n",
    "biases = []\n",
    "for layer in params['params'].keys():\n",
    "    bias = jax.vmap(get_bias, in_axes=(0, None))(t, layer)\n",
    "    biases.append(bias)\n",
    "\n",
    "biases[0].shape"
   ]
  },
  {
   "cell_type": "code",
   "execution_count": 38,
   "metadata": {},
   "outputs": [
    {
     "data": {
      "image/png": "[encoded data removed]",
      "text/plain": [
       "<Figure size 324.893x602.384 with 6 Axes>"
      ]
     },
     "metadata": {},
     "output_type": "display_data"
    }
   ],
   "source": [
    "from matplotlib.colors import ListedColormap\n",
    "# Select SV\n",
    "def get_sorted_orderings(biases, layer):\n",
    "    sv_data = biases[layer]  # Shape: (Layer, Epochs, nrUnits)\n",
    "\n",
    "    # Step 1: Compute the order of the parameters for all epochs\n",
    "    orderings = np.argsort(sv_data, axis=1)  # Shape: (Epochs, nrUnits)\n",
    "    # Compute the average order for each parameter\n",
    "    average_order = np.mean(orderings, axis=0)\n",
    "    # Sort the parameters based on the average order\n",
    "    sorted_indices = np.argsort(average_order)\n",
    "    return orderings[:, sorted_indices].T, sorted_indices\n",
    "\n",
    "\n",
    "fig, axes = plt.subplots(3, 1, figsize=(figsize[0], figsize[1]*3))\n",
    "\n",
    "for i, ax in enumerate(axes):\n",
    "    orderings, sorted_indices = get_sorted_orderings(biases, i)\n",
    "    num_bias = biases[i].shape[1]\n",
    "\n",
    "    # Define a discrete colormap with 16 colors representing the order positions\n",
    "    cmap = ListedColormap(plt.get_cmap('coolwarm', num_bias)\n",
    "                          (np.arange(num_bias)[sorted_indices])) # reorder colors for correct color mapping\n",
    "    # cmap = plt.get_cmap('coolwarm', num_bias)\n",
    "\n",
    "    # Create the heatmap where rows are parameters and columns are epochs\n",
    "    img = ax.imshow(orderings, aspect='auto',\n",
    "                    interpolation='nearest', cmap=cmap)\n",
    "\n",
    "    # Customize the colorbar to represent the order positions\n",
    "    cbar = plt.colorbar(img, label='Order Position')\n",
    "    cbar.set_ticks(np.linspace(0.5, num_bias-1.5, 4))\n",
    "    cbar.set_ticklabels(np.arange(1, num_bias+1, 5))\n",
    "\n",
    "    ax.set_yticks(np.arange(0, num_bias, 2))\n",
    "    ax.set_yticklabels(np.arange(1, num_bias+1, 2))\n",
    "    ax.set_xticks([0, len(t)/2, len(t)-1])\n",
    "    ax.set_xticklabels([0, 0.5, 1])\n",
    "\n",
    "axes[-1].set_xlabel('t')\n",
    "axes[0].get_xaxis().set_visible(False)\n",
    "axes[1].get_xaxis().set_visible(False)\n",
    "axes[0].set_ylabel('Layer 1')\n",
    "axes[1].set_ylabel('Layer 2')\n",
    "axes[2].set_ylabel('Layer 3')\n",
    "plt.subplots_adjust(hspace=0.07)\n",
    "plt.savefig(\"figures/ascending_ordering_noSorting.pdf\", bbox_inches='tight')"
   ]
  },
  {
   "cell_type": "code",
   "execution_count": 39,
   "metadata": {},
   "outputs": [
    {
     "name": "stdout",
     "output_type": "stream",
     "text": [
      "(1000, 500)\n"
     ]
    },
    {
     "data": {
      "image/png": "[encoded data removed]",
      "text/plain": [
       "<Figure size 324.893x200.795 with 2 Axes>"
      ]
     },
     "metadata": {},
     "output_type": "display_data"
    }
   ],
   "source": [
    "# plot predictive for onedimensional regression dataset\n",
    "fig, ax = plt.subplots()\n",
    "t_space = jnp.linspace(0, 1, 1000)\n",
    "x_lin = jnp.linspace(-3, 3, 500)[:, None]\n",
    "out = s_model(params['params'], t_space, x_lin).squeeze(axis=-1)\n",
    "print(out.shape)\n",
    "ax.plot(x, y, 'o', label='train')\n",
    "# plt.fill_between(x.squeeze(), out.mean(axis=0) - out.std(axis=0), out.mean(axis=0) + out.std(axis=0), alpha=0.5)\n",
    "# plot lines using viridis color map\n",
    "colors = plt.cm.viridis(t_space)\n",
    "for o, c in zip(out, colors):\n",
    "    ax.plot(x_lin, o, color=c, alpha=0.3)\n",
    "ax.plot(x_lin, out.mean(axis=0), label='mean',\n",
    "        c='red', linewidth=2, alpha=0.8)\n",
    "ax.set_ylabel(\"y\")\n",
    "ax.set_xlabel(\"x\")\n",
    "# add colorbar\n",
    "sm = plt.cm.ScalarMappable(cmap='viridis', norm=plt.Normalize(\n",
    "    vmin=t_space.min(), vmax=t_space.max()))\n",
    "sm.set_array([])\n",
    "cbar = plt.colorbar(sm, ax=ax)\n",
    "cbar.set_label('t')\n",
    "plt.title(f\"k={curve_params['k']}\")\n",
    "plt.tight_layout()"
   ]
  },
  {
   "cell_type": "code",
   "execution_count": 40,
   "metadata": {},
   "outputs": [
    {
     "data": {
      "text/plain": [
       "Array(-1.1557214, dtype=float32)"
      ]
     },
     "execution_count": 40,
     "metadata": {},
     "output_type": "execute_result"
    }
   ],
   "source": [
    "\n",
    "rng_key = carry[0]\n",
    "rng_key, subkey = jax.random.split(rng_key)\n",
    "test_loss = s_model.compute_loss(subkey, params, x_test_, y_test_, n_samples=100000)\n",
    "test_loss"
   ]
  },
  {
   "cell_type": "markdown",
   "metadata": {},
   "source": [
    "### wandb compare"
   ]
  },
  {
   "cell_type": "code",
   "execution_count": 41,
   "metadata": {},
   "outputs": [
    {
     "name": "stderr",
     "output_type": "stream",
     "text": [
      "Sweep id: paxv2kno: 100%|██████████| 100/100 [00:00<00:00, 521.60it/s, graceful-sweep-4] \n",
      "Sweep id: u7vfztsz: 100%|██████████| 200/200 [00:00<00:00, 501.40it/s, faithful-sweep-1]   \n",
      "Sweep id: 43684y5h: 100%|██████████| 150/150 [00:00<00:00, 540.58it/s, tough-sweep-2]         \n"
     ]
    },
    {
     "name": "stdout",
     "output_type": "stream",
     "text": [
      "Encoundert problem with run stellar-sweep-1; state: crashed\n"
     ]
    },
    {
     "data": {
      "text/html": [
       "<div>\n",
       "<style scoped>\n",
       "    .dataframe tbody tr th:only-of-type {\n",
       "        vertical-align: middle;\n",
       "    }\n",
       "\n",
       "    .dataframe tbody tr th {\n",
       "        vertical-align: top;\n",
       "    }\n",
       "\n",
       "    .dataframe thead th {\n",
       "        text-align: right;\n",
       "    }\n",
       "</style>\n",
       "<table border=\"1\" class=\"dataframe\">\n",
       "  <thead>\n",
       "    <tr style=\"text-align: right;\">\n",
       "      <th></th>\n",
       "      <th>Id</th>\n",
       "      <th>Activation</th>\n",
       "      <th>Depth</th>\n",
       "      <th>SubspaceDim</th>\n",
       "      <th>Seed</th>\n",
       "      <th>SelectFromValidation</th>\n",
       "      <th>UniformSSampling</th>\n",
       "      <th>Bias</th>\n",
       "      <th>curve_ll_train</th>\n",
       "      <th>curve_ll_val</th>\n",
       "    </tr>\n",
       "  </thead>\n",
       "  <tbody>\n",
       "    <tr>\n",
       "      <th>0</th>\n",
       "      <td>1pxmenf1</td>\n",
       "      <td>elu</td>\n",
       "      <td>3</td>\n",
       "      <td>20</td>\n",
       "      <td>14</td>\n",
       "      <td>True</td>\n",
       "      <td>False</td>\n",
       "      <td>Vanilla</td>\n",
       "      <td>1.585872</td>\n",
       "      <td>1.340081</td>\n",
       "    </tr>\n",
       "    <tr>\n",
       "      <th>1</th>\n",
       "      <td>ewlsu489</td>\n",
       "      <td>elu</td>\n",
       "      <td>3</td>\n",
       "      <td>20</td>\n",
       "      <td>13</td>\n",
       "      <td>True</td>\n",
       "      <td>False</td>\n",
       "      <td>Vanilla</td>\n",
       "      <td>1.541566</td>\n",
       "      <td>1.642239</td>\n",
       "    </tr>\n",
       "    <tr>\n",
       "      <th>2</th>\n",
       "      <td>ie7gv09t</td>\n",
       "      <td>elu</td>\n",
       "      <td>3</td>\n",
       "      <td>20</td>\n",
       "      <td>12</td>\n",
       "      <td>True</td>\n",
       "      <td>False</td>\n",
       "      <td>Vanilla</td>\n",
       "      <td>1.538396</td>\n",
       "      <td>1.550324</td>\n",
       "    </tr>\n",
       "    <tr>\n",
       "      <th>3</th>\n",
       "      <td>g77awjzj</td>\n",
       "      <td>elu</td>\n",
       "      <td>3</td>\n",
       "      <td>20</td>\n",
       "      <td>11</td>\n",
       "      <td>True</td>\n",
       "      <td>False</td>\n",
       "      <td>Vanilla</td>\n",
       "      <td>1.677180</td>\n",
       "      <td>1.546046</td>\n",
       "    </tr>\n",
       "    <tr>\n",
       "      <th>4</th>\n",
       "      <td>pyzexfx4</td>\n",
       "      <td>elu</td>\n",
       "      <td>3</td>\n",
       "      <td>20</td>\n",
       "      <td>10</td>\n",
       "      <td>True</td>\n",
       "      <td>False</td>\n",
       "      <td>Vanilla</td>\n",
       "      <td>1.634015</td>\n",
       "      <td>1.584967</td>\n",
       "    </tr>\n",
       "    <tr>\n",
       "      <th>...</th>\n",
       "      <td>...</td>\n",
       "      <td>...</td>\n",
       "      <td>...</td>\n",
       "      <td>...</td>\n",
       "      <td>...</td>\n",
       "      <td>...</td>\n",
       "      <td>...</td>\n",
       "      <td>...</td>\n",
       "      <td>...</td>\n",
       "      <td>...</td>\n",
       "    </tr>\n",
       "    <tr>\n",
       "      <th>444</th>\n",
       "      <td>5uuh53fk</td>\n",
       "      <td>relu</td>\n",
       "      <td>3</td>\n",
       "      <td>2</td>\n",
       "      <td>15</td>\n",
       "      <td>True</td>\n",
       "      <td>True</td>\n",
       "      <td>Sorted</td>\n",
       "      <td>1.455241</td>\n",
       "      <td>1.249192</td>\n",
       "    </tr>\n",
       "    <tr>\n",
       "      <th>445</th>\n",
       "      <td>e9cgy0qz</td>\n",
       "      <td>relu</td>\n",
       "      <td>3</td>\n",
       "      <td>2</td>\n",
       "      <td>14</td>\n",
       "      <td>True</td>\n",
       "      <td>True</td>\n",
       "      <td>Sorted</td>\n",
       "      <td>1.596452</td>\n",
       "      <td>1.246634</td>\n",
       "    </tr>\n",
       "    <tr>\n",
       "      <th>446</th>\n",
       "      <td>4nbbbk0f</td>\n",
       "      <td>relu</td>\n",
       "      <td>3</td>\n",
       "      <td>2</td>\n",
       "      <td>13</td>\n",
       "      <td>True</td>\n",
       "      <td>True</td>\n",
       "      <td>Sorted</td>\n",
       "      <td>1.515058</td>\n",
       "      <td>1.552647</td>\n",
       "    </tr>\n",
       "    <tr>\n",
       "      <th>447</th>\n",
       "      <td>w8vu26ob</td>\n",
       "      <td>relu</td>\n",
       "      <td>3</td>\n",
       "      <td>2</td>\n",
       "      <td>12</td>\n",
       "      <td>True</td>\n",
       "      <td>True</td>\n",
       "      <td>Sorted</td>\n",
       "      <td>1.585658</td>\n",
       "      <td>1.563393</td>\n",
       "    </tr>\n",
       "    <tr>\n",
       "      <th>448</th>\n",
       "      <td>ugd4a3ax</td>\n",
       "      <td>relu</td>\n",
       "      <td>3</td>\n",
       "      <td>2</td>\n",
       "      <td>11</td>\n",
       "      <td>True</td>\n",
       "      <td>True</td>\n",
       "      <td>Sorted</td>\n",
       "      <td>1.926533</td>\n",
       "      <td>1.605915</td>\n",
       "    </tr>\n",
       "  </tbody>\n",
       "</table>\n",
       "<p>449 rows × 10 columns</p>\n",
       "</div>"
      ],
      "text/plain": [
       "           Id Activation  Depth  SubspaceDim  Seed  SelectFromValidation  \\\n",
       "0    1pxmenf1        elu      3           20    14                  True   \n",
       "1    ewlsu489        elu      3           20    13                  True   \n",
       "2    ie7gv09t        elu      3           20    12                  True   \n",
       "3    g77awjzj        elu      3           20    11                  True   \n",
       "4    pyzexfx4        elu      3           20    10                  True   \n",
       "..        ...        ...    ...          ...   ...                   ...   \n",
       "444  5uuh53fk       relu      3            2    15                  True   \n",
       "445  e9cgy0qz       relu      3            2    14                  True   \n",
       "446  4nbbbk0f       relu      3            2    13                  True   \n",
       "447  w8vu26ob       relu      3            2    12                  True   \n",
       "448  ugd4a3ax       relu      3            2    11                  True   \n",
       "\n",
       "     UniformSSampling     Bias  curve_ll_train  curve_ll_val  \n",
       "0               False  Vanilla        1.585872      1.340081  \n",
       "1               False  Vanilla        1.541566      1.642239  \n",
       "2               False  Vanilla        1.538396      1.550324  \n",
       "3               False  Vanilla        1.677180      1.546046  \n",
       "4               False  Vanilla        1.634015      1.584967  \n",
       "..                ...      ...             ...           ...  \n",
       "444              True   Sorted        1.455241      1.249192  \n",
       "445              True   Sorted        1.596452      1.246634  \n",
       "446              True   Sorted        1.515058      1.552647  \n",
       "447              True   Sorted        1.585658      1.563393  \n",
       "448              True   Sorted        1.926533      1.605915  \n",
       "\n",
       "[449 rows x 10 columns]"
      ]
     },
     "execution_count": 41,
     "metadata": {},
     "output_type": "execute_result"
    }
   ],
   "source": [
    "api = wandb.Api()\n",
    "results = []\n",
    "# for s_id in ['vl6382k1', 'x26ip745', 'd8bi25u9']:\n",
    "for s_id in ['paxv2kno', 'u7vfztsz', '43684y5h']:\n",
    "    t_bar = tqdm(api.sweep(f\"ddold/subspace_toy_reg/{s_id}\").runs)\n",
    "    t_bar.set_description(f\"Sweep id: {s_id}\")\n",
    "    for run in t_bar:\n",
    "        if (run.state == 'finished'):\n",
    "            t_bar.set_postfix_str(run.name)\n",
    "            res = dict(Id=run.id,\n",
    "                       Activation=run.config['curve_params']['model_kwargs']['activation'],\n",
    "                       Depth=run.config['curve_params']['model_kwargs']['depth'],\n",
    "                       SubspaceDim=run.config['curve_params']['k'],\n",
    "                       Seed=run.config['rng_seed'],\n",
    "                       SelectFromValidation=run.config['curve_params']['use_validation'],\n",
    "                       UniformSSampling=run.config['curve_params']['uniform_t_optimize'],\n",
    "                       Bias=\"Sorted\" if run.config['curve_params'].get(\n",
    "                           'bias_ascending_dnn', False) else \"Vanilla\",\n",
    "                       curve_ll_train=run.summary.get(\n",
    "                           'curve_log_likelihood', -np.inf),\n",
    "                       curve_ll_val=-run.summary.get('best_loss', np.inf),\n",
    "                       )\n",
    "            results.append(res)\n",
    "        else:\n",
    "            print(\n",
    "                f\"Encoundert problem with run {run.name}; state: {run.state}\")\n",
    "df = pd.DataFrame(results)\n",
    "df"
   ]
  },
  {
   "cell_type": "code",
   "execution_count": 42,
   "metadata": {},
   "outputs": [
    {
     "data": {
      "text/html": [
       "<div>\n",
       "<style scoped>\n",
       "    .dataframe tbody tr th:only-of-type {\n",
       "        vertical-align: middle;\n",
       "    }\n",
       "\n",
       "    .dataframe tbody tr th {\n",
       "        vertical-align: top;\n",
       "    }\n",
       "\n",
       "    .dataframe thead th {\n",
       "        text-align: right;\n",
       "    }\n",
       "</style>\n",
       "<table border=\"1\" class=\"dataframe\">\n",
       "  <thead>\n",
       "    <tr style=\"text-align: right;\">\n",
       "      <th></th>\n",
       "      <th>Id</th>\n",
       "      <th>Activation</th>\n",
       "      <th>Depth</th>\n",
       "      <th>SubspaceDim</th>\n",
       "      <th>Seed</th>\n",
       "      <th>SelectFromValidation</th>\n",
       "      <th>UniformSSampling</th>\n",
       "      <th>Bias</th>\n",
       "      <th>curve_ll_train</th>\n",
       "      <th>curve_ll_val</th>\n",
       "    </tr>\n",
       "  </thead>\n",
       "  <tbody>\n",
       "  </tbody>\n",
       "</table>\n",
       "</div>"
      ],
      "text/plain": [
       "Empty DataFrame\n",
       "Columns: [Id, Activation, Depth, SubspaceDim, Seed, SelectFromValidation, UniformSSampling, Bias, curve_ll_train, curve_ll_val]\n",
       "Index: []"
      ]
     },
     "execution_count": 42,
     "metadata": {},
     "output_type": "execute_result"
    }
   ],
   "source": [
    "# runs with problems\n",
    "idx_config_with_nan = df.isnull().values.any(axis=1)\n",
    "df[idx_config_with_nan]"
   ]
  },
  {
   "cell_type": "code",
   "execution_count": 43,
   "metadata": {},
   "outputs": [
    {
     "name": "stdout",
     "output_type": "stream",
     "text": [
      "Unique configuartions: \n",
      "Activation ['elu' 'relu']\n",
      "Depth [3]\n",
      "SubspaceDim [20  4 10  7  2]\n",
      "Seed [14 13 12 11 10 24 23 21 20 19 16 22 18 17 15]\n",
      "SelectFromValidation [ True]\n",
      "UniformSSampling [False  True]\n",
      "Bias ['Vanilla' 'Sorted']\n",
      "\n",
      "Experiment differs in ['Activation', 'SubspaceDim', 'UniformSSampling', 'Bias'] configs\n"
     ]
    }
   ],
   "source": [
    "df_clean = df[~idx_config_with_nan]\n",
    "idx_ids = [col for col in df.columns if col[0].isupper()]\n",
    "value_ids = np.setdiff1d(df.columns.values, idx_ids)\n",
    "print(\"Unique configuartions: \")\n",
    "variable_idx = []\n",
    "for c in df_clean.columns:\n",
    "    if c not in [*value_ids, 'Id']:\n",
    "        unique_ = df_clean[c].unique()\n",
    "        print(c, unique_)\n",
    "        if (len(unique_) > 1) and (c != 'Seed'):\n",
    "            variable_idx.append(c)\n",
    "print(f\"\\nExperiment differs in {variable_idx} configs\")"
   ]
  },
  {
   "cell_type": "code",
   "execution_count": 44,
   "metadata": {},
   "outputs": [],
   "source": [
    "df_subset = df_clean[df_clean['UniformSSampling'] == True]"
   ]
  },
  {
   "cell_type": "code",
   "execution_count": 45,
   "metadata": {},
   "outputs": [
    {
     "data": {
      "image/png": "[encoded data removed]",
      "text/plain": [
       "<Figure size 887.276x200.795 with 2 Axes>"
      ]
     },
     "metadata": {},
     "output_type": "display_data"
    }
   ],
   "source": [
    "from matplotlib import colors\n",
    "\n",
    "g = sns.catplot(data=df_subset, y='curve_ll_train', x='SubspaceDim',\n",
    "                col='Activation', kind='box', hue='Bias', sharey=False, height=figsize[1], aspect=2, palette='tab10',)\n",
    "g.set_titles(row_template='--- {row_name}',\n",
    "             col_template='Activation: {col_name}')\n",
    "for ax in g.axes.flatten():\n",
    "    title = ax.get_title()\n",
    "    new_title = title.replace('lambda', 'Tunnel').replace('varphi', 'Volume')\n",
    "    ax.set_title(new_title)\n",
    "# set ylim\n",
    "# for ax in g.axes.flatten():\n",
    "#     ax.set_ylim(-2, 2)\n",
    "g.axes[0, 0].set_xlabel('Subspace Dim.')\n",
    "g.axes[0, 1].set_xlabel('Subspace Dim.')\n",
    "g.axes[0, 0].set_ylabel(r'Mean Curve LL (train) $\\uparrow$')\n",
    "# g.axes[1, 0].set_ylabel('LPPD')\n",
    "# Update legend labels\n",
    "for t in g._legend.texts:\n",
    "    t.set_text(t.get_text().split('.')[0])\n",
    "g.tight_layout()\n",
    "sns.move_legend(g, loc='upper center', bbox_to_anchor=(.45, 1.13), ncols=6)\n",
    "plt.savefig('figures/subspace_BiasSorting_train.pdf', bbox_inches='tight')"
   ]
  },
  {
   "cell_type": "code",
   "execution_count": 47,
   "metadata": {},
   "outputs": [
    {
     "data": {
      "text/plain": [
       "'|    | Activation   |   SubspaceDim | Bias    | mean_curve_LL   |\\n|---:|:-------------|--------------:|:--------|:----------------|\\n|  0 | elu          |             2 | Sorted  | 1.64 ± 0.10     |\\n|  1 | elu          |             2 | Vanilla | 1.65 ± 0.14     |\\n|  2 | elu          |             4 | Sorted  | 1.63 ± 0.09     |\\n|  3 | elu          |             4 | Vanilla | 1.64 ± 0.10     |\\n|  4 | elu          |             7 | Sorted  | 1.62 ± 0.11     |\\n|  5 | elu          |             7 | Vanilla | 1.61 ± 0.11     |\\n|  6 | elu          |            10 | Sorted  | 1.63 ± 0.09     |\\n|  7 | elu          |            10 | Vanilla | 1.66 ± 0.15     |\\n|  8 | elu          |            20 | Sorted  | 1.63 ± 0.08     |\\n|  9 | elu          |            20 | Vanilla | 1.63 ± 0.09     |\\n| 10 | relu         |             2 | Sorted  | 1.65 ± 0.13     |\\n| 11 | relu         |             2 | Vanilla | 1.62 ± 0.11     |\\n| 12 | relu         |             4 | Sorted  | 1.62 ± 0.10     |\\n| 13 | relu         |             4 | Vanilla | 1.66 ± 0.14     |\\n| 14 | relu         |             7 | Sorted  | 1.63 ± 0.12     |\\n| 15 | relu         |             7 | Vanilla | 1.66 ± 0.11     |\\n| 16 | relu         |            10 | Sorted  | 1.65 ± 0.12     |\\n| 17 | relu         |            10 | Vanilla | 1.67 ± 0.14     |\\n| 18 | relu         |            20 | Sorted  | 1.63 ± 0.12     |\\n| 19 | relu         |            20 | Vanilla | 1.64 ± 0.10     |'"
      ]
     },
     "execution_count": 47,
     "metadata": {},
     "output_type": "execute_result"
    }
   ],
   "source": [
    "# Display the table for df_subset\n",
    "df_subset_mean = df_subset.groupby(['Activation', 'SubspaceDim', 'Bias'])['curve_ll_train'].agg(['mean', 'std'])\n",
    "df_subset_mean = df_subset_mean.assign(\n",
    "    mean_curve_LL=lambda x: x['mean'].round(2).apply(\n",
    "        lambda y: f\"{y:.2f}\") + \" ± \" + x['std'].round(2).apply(lambda y: f\"{y:.2f}\"),\n",
    "    ).drop(columns=['mean', 'std',])  # [['lppd_test',]]\n",
    "\n",
    "df_subset_mean.reset_index(drop=False).to_markdown()"
   ]
  },
  {
   "cell_type": "markdown",
   "metadata": {},
   "source": [
    "|    | Activation | Subspace Dim. | Bias ascending | mean curve LL |\n",
    "|---:|:-----------|------------:|:--------------|:--------------|\n",
    "|  0 | elu        |           2 | False         | 1.65 ± 0.14   |\n",
    "|  1 | elu        |           2 | True          | 1.64 ± 0.10   |\n",
    "|  2 | elu        |           4 | False         | 1.64 ± 0.10   |\n",
    "|  3 | elu        |           4 | True          | 1.63 ± 0.09   |\n",
    "|  4 | elu        |           7 | False         | 1.61 ± 0.11   |\n",
    "|  5 | elu        |           7 | True          | 1.62 ± 0.11   |\n",
    "|  6 | elu        |          10 | False         | 1.66 ± 0.15   |\n",
    "|  7 | elu        |          10 | True          | 1.63 ± 0.09   |\n",
    "|  8 | elu        |          20 | False         | 1.63 ± 0.09   |\n",
    "|  9 | elu        |          20 | True          | 1.63 ± 0.08   |\n",
    "| 10 | relu       |           2 | False         | 1.62 ± 0.11   |\n",
    "| 11 | relu       |           2 | True          | 1.65 ± 0.13   |\n",
    "| 12 | relu       |           4 | False         | 1.66 ± 0.14   |\n",
    "| 13 | relu       |           4 | True          | 1.62 ± 0.10   |\n",
    "| 14 | relu       |           7 | False         | 1.66 ± 0.11   |\n",
    "| 15 | relu       |           7 | True          | 1.63 ± 0.12   |\n",
    "| 16 | relu       |          10 | False         | 1.67 ± 0.14   |\n",
    "| 17 | relu       |          10 | True          | 1.65 ± 0.12   |\n",
    "| 18 | relu       |          20 | False         | 1.64 ± 0.10   |\n",
    "| 19 | relu       |          20 | True          | 1.63 ± 0.12   |\n"
   ]
  },
  {
   "cell_type": "code",
   "execution_count": 48,
   "metadata": {},
   "outputs": [
    {
     "data": {
      "image/png": "[encoded data removed]",
      "text/plain": [
       "<Figure size 887.276x200.795 with 2 Axes>"
      ]
     },
     "metadata": {},
     "output_type": "display_data"
    }
   ],
   "source": [
    "from matplotlib import colors\n",
    "\n",
    "g = sns.catplot(data=df_subset, y='curve_ll_val', x='SubspaceDim',\n",
    "                col='Activation', kind='box', hue='Bias', sharey=False, height=figsize[1], aspect=2, palette='tab10',)\n",
    "g.set_titles(row_template='--- {row_name}',\n",
    "             col_template='Activation: {col_name}')\n",
    "for ax in g.axes.flatten():\n",
    "    title = ax.get_title()\n",
    "    new_title = title.replace('lambda', 'Tunnel').replace('varphi', 'Volume')\n",
    "    ax.set_title(new_title)\n",
    "# set ylim\n",
    "# for ax in g.axes.flatten():\n",
    "#     ax.set_ylim(-2, 2)\n",
    "g.axes[0, 0].set_xlabel('Subspace Dim.')\n",
    "g.axes[0, 1].set_xlabel('Subspace Dim.')\n",
    "g.axes[0, 0].set_ylabel(r'Mean Curve LL (valid) $\\uparrow$')\n",
    "# g.axes[1, 0].set_ylabel('LPPD')\n",
    "# Update legend labels\n",
    "for t in g._legend.texts:\n",
    "    t.set_text(t.get_text().split('.')[0])\n",
    "g.tight_layout()\n",
    "sns.move_legend(g, loc='upper center', bbox_to_anchor=(.45, 1.13), ncols=6)\n",
    "plt.savefig('figures/subspace_BiasSorting_valid.pdf', bbox_inches='tight')"
   ]
  },
  {
   "cell_type": "code",
   "execution_count": null,
   "metadata": {},
   "outputs": [],
   "source": []
  }
 ],
 "metadata": {
  "kernelspec": {
   "display_name": "jax_torch",
   "language": "python",
   "name": "python3"
  },
  "language_info": {
   "codemirror_mode": {
    "name": "ipython",
    "version": 3
   },
   "file_extension": ".py",
   "mimetype": "text/x-python",
   "name": "python",
   "nbconvert_exporter": "python",
   "pygments_lexer": "ipython3",
   "version": "3.11.9"
  }
 },
 "nbformat": 4,
 "nbformat_minor": 2
}
