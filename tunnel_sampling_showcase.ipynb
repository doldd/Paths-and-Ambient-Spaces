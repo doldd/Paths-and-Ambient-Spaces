{
 "cells": [
  {
   "cell_type": "code",
   "execution_count": 7,
   "metadata": {},
   "outputs": [
    {
     "name": "stdout",
     "output_type": "stream",
     "text": [
      "The autoreload extension is already loaded. To reload it, use:\n",
      "  %reload_ext autoreload\n"
     ]
    },
    {
     "data": {
      "text/plain": [
       "'--xla_force_host_platform_device_count=10'"
      ]
     },
     "execution_count": 7,
     "metadata": {},
     "output_type": "execute_result"
    }
   ],
   "source": [
    "import os\n",
    "os.environ[\"XLA_FLAGS\"] = \"--xla_force_host_platform_device_count=10\"\n",
    "# os.environ[\"XLA_FLAGS\"] = ('--xla_force_host_platform_device_count=10 '\n",
    "                        #    '--xla_dump_to=xla_dump/')\n",
    "os.environ[\"CUDA_VISIBLE_DEVICES\"] = \"0\"\n",
    "os.environ[\"XLA_PYTHON_CLIENT_MEM_FRACTION\"] = \".95\"\n",
    "\n",
    "import arviz as az\n",
    "import jax\n",
    "import jax.experimental\n",
    "import jax.numpy as jnp\n",
    "from jax import random\n",
    "import seaborn as sns\n",
    "from scipy.integrate import cumulative_trapezoid\n",
    "import jax.numpy as jnp\n",
    "from jax import random\n",
    "from functools import partial\n",
    "import numpy as np\n",
    "import matplotlib.pyplot as plt\n",
    "from flax import linen as nn\n",
    "import optax\n",
    "import jax\n",
    "import jax.numpy as jnp\n",
    "from jax import random, jit, grad\n",
    "import optax\n",
    "from tqdm import tqdm\n",
    "import matplotlib.pyplot as plt\n",
    "# Assuming equivalent JAX implementations\n",
    "from src.jax_subspace_curve import OrthoSpan, SubspaceModel, UniformTSubspace\n",
    "from src.jax_test_model import MLPModel\n",
    "import numpyro\n",
    "import numpyro.distributions as dist\n",
    "from numpyro import handlers\n",
    "import arviz as az\n",
    "from src.jax_subspace_sampling import init_curve_frame_cp, ortho_at_one_t\n",
    "from src.jax_subspace_curve import bezier_curve, pytree_to_matrix, vec_to_pytree\n",
    "import pandas as pd\n",
    "import wandb\n",
    "import time\n",
    "from jax_tqdm import scan_tqdm\n",
    "from src.utils import get_cp_w, get_data, get_samples_from_run, get_model_from_run_path\n",
    "\n",
    "%load_ext autoreload\n",
    "%autoreload 2\n",
    "\n",
    "%env XLA_FLAGS\n",
    "\n",
    "#jax.devices(\"gpu\")"
   ]
  },
  {
   "cell_type": "code",
   "execution_count": 8,
   "metadata": {},
   "outputs": [
    {
     "name": "stdout",
     "output_type": "stream",
     "text": [
      "Figure size= [3.2489276324892766, 2.0079477038671003]\n"
     ]
    }
   ],
   "source": [
    "def get_figsize(columnwidth, wf=0.5, hf=(5.**0.5-1.0)/2.0, ):\n",
    "    \"\"\"Parameters:\n",
    "    - wf [float]:  width fraction in columnwidth units\n",
    "    - hf [float]:  height fraction in columnwidth units.\n",
    "                    Set by default to golden ratio.\n",
    "    - columnwidth [float]: width of the column in latex. Get this from LaTeX \n",
    "                            using \\showthe\\columnwidth\n",
    "    Returns:  [fig_width,fig_height]: that should be given to matplotlib\n",
    "    \"\"\"\n",
    "    fig_width_pt = columnwidth*wf\n",
    "    inches_per_pt = 1.0/72.27               # Convert pt to inch\n",
    "    fig_width = fig_width_pt*inches_per_pt  # width in inches\n",
    "    fig_height = fig_width*hf      # height in inches\n",
    "    return [fig_width, fig_height]\n",
    "\n",
    "\n",
    "fig_width_pt = 234.8  # Get this from LaTeX using \\showthe\\columnwidth\n",
    "inches_per_pt = 1.0/72.27               # Convert pt to inches\n",
    "golden_mean = (np.sqrt(5)-1.0)/2.0         # Aesthetic ratio\n",
    "fig_width = fig_width_pt*inches_per_pt  # width in inches\n",
    "fig_height = fig_width*golden_mean       # height in inches\n",
    "figsize = [fig_width, fig_height]\n",
    "print(\"Figure size=\", figsize)\n",
    "tex_fonts = {\n",
    "    # Use LaTeX to write all text\n",
    "    \"text.usetex\": True,\n",
    "    # \"text.latex.preamble\": r'\\usepackage{amsfonts}',\n",
    "    \"font.family\": \"Nimbus Sans\",\n",
    "    # Use 10pt font in plots, to match 10pt font in document\n",
    "    \"axes.labelsize\": 10,\n",
    "    \"font.size\": 10,\n",
    "    # Make the legend/label fonts a little smaller\n",
    "    \"legend.fontsize\": 9,\n",
    "    \"legend.title_fontsize\": 10,\n",
    "    \"xtick.labelsize\": 10,\n",
    "    \"ytick.labelsize\": 10,\n",
    "    \"figure.figsize\": figsize\n",
    "}\n",
    "plt.rcParams.update(tex_fonts)"
   ]
  },
  {
   "cell_type": "markdown",
   "metadata": {},
   "source": [
    "### Load data"
   ]
  },
  {
   "cell_type": "code",
   "execution_count": 9,
   "metadata": {},
   "outputs": [
    {
     "name": "stdout",
     "output_type": "stream",
     "text": [
      "Data shapes: (56, 1) (56,) (33, 1) (33,)\n"
     ]
    },
    {
     "data": {
      "image/png": "[encoded data removed]",
      "text/plain": [
       "<Figure size 324.893x200.795 with 1 Axes>"
      ]
     },
     "metadata": {},
     "output_type": "display_data"
    }
   ],
   "source": [
    "# load data\n",
    "data = jnp.load('regression_data.npz')\n",
    "x = jnp.array(data['x'])\n",
    "y = jnp.array(data['y'])\n",
    "x_test_ = jnp.array(data['xt'])\n",
    "y_test_ = jnp.array(data['yt'])\n",
    "# Split the data into training and validation sets\n",
    "random_idx = jax.random.choice(random.PRNGKey(0), x.shape[0], (int(x.shape[0]*0.2),), replace=False)\n",
    "x_val = x[random_idx]\n",
    "y_val = y[random_idx]\n",
    "x = x[np.setdiff1d(jnp.arange(x.shape[0]), random_idx)]\n",
    "y = y[np.setdiff1d(jnp.arange(y.shape[0]), random_idx)]\n",
    "\n",
    "plt.plot(x, y, 'o', label='train')\n",
    "plt.plot(x_val, y_val, 'd', label='valid')\n",
    "# Plot a subset of the test data\n",
    "subset_indices = jnp.arange(0, x_test_.shape[0], 2)\n",
    "plt.plot(x_test_[subset_indices], y_test_[subset_indices], 'x', label='test subset')\n",
    "plt.legend()\n",
    "print(\"Data shapes:\", x.shape, y.shape, x_test_.shape, y_test_.shape)"
   ]
  },
  {
   "cell_type": "markdown",
   "metadata": {},
   "source": [
    "### Define model structure"
   ]
  },
  {
   "cell_type": "code",
   "execution_count": 10,
   "metadata": {},
   "outputs": [],
   "source": [
    "\n",
    "\n",
    "# config = {\n",
    "#     'curve_params': {'k': 10,\n",
    "#                      'model_kwargs': {'depth': 3, 'width': 16, 'activation': 'relu'},\n",
    "#                      'n_samples': 500,\n",
    "#                      'lr': 0.001,\n",
    "#                      'out_scale': 0.05,\n",
    "#                      'optimize_distparams': True,\n",
    "#                      'num_epochs': 10000},\n",
    "#     'sampling': {'space_config': {'space': 'lambda',\n",
    "#                                   'prior_scale': .5,\n",
    "#                                   'tube_scale': 1.,\n",
    "#                                   'prior_correct': False,\n",
    "#                                   'epsilon': 25.},\n",
    "#                  'num_chains': 10,\n",
    "#                  'temperature': 10.,\n",
    "#                  'num_warmup': 1000,\n",
    "#                  'num_draws': 1000,\n",
    "#                  'sampler': 'nuts'},\n",
    "#     'rng_seed': 0\n",
    "# }"
   ]
  },
  {
   "cell_type": "code",
   "execution_count": 24,
   "metadata": {},
   "outputs": [
    {
     "data": {
      "text/plain": [
       "MLPModel(\n",
       "    # attributes\n",
       "    depth = 3\n",
       "    width = 16\n",
       "    activation = 'relu'\n",
       ")"
      ]
     },
     "execution_count": 24,
     "metadata": {},
     "output_type": "execute_result"
    }
   ],
   "source": [
    "# define model architecture\n",
    "model = MLPModel(depth=3, width=16, activation='relu')\n",
    "model"
   ]
  },
  {
   "cell_type": "code",
   "execution_count": 25,
   "metadata": {},
   "outputs": [
    {
     "data": {
      "text/plain": [
       "(11, 3, 16)"
      ]
     },
     "execution_count": 25,
     "metadata": {},
     "output_type": "execute_result"
    }
   ],
   "source": [
    "# define the subspace model to optimize the path\n",
    "k = 10\n",
    "s_model = SubspaceModel(model, # any model can be passed\n",
    "                        k,\n",
    "                        n_samples=10,\n",
    "                        out_scale=0.05,\n",
    "                        optimize_distparams=True)\n",
    "\n",
    "rng_key = random.PRNGKey(0)\n",
    "rng_key, init_key = random.split(rng_key)\n",
    "params = s_model.init_params(init_key, x)\n",
    "params['params']['Dense_0']['kernel'].shape # shape (k+1, 3, 16)"
   ]
  },
  {
   "cell_type": "markdown",
   "metadata": {},
   "source": [
    "#### train curve model"
   ]
  },
  {
   "cell_type": "code",
   "execution_count": 26,
   "metadata": {},
   "outputs": [
    {
     "name": "stderr",
     "output_type": "stream",
     "text": [
      "100%|██████████| 10000/10000 [00:10<00:00, 985.44it/s]\n"
     ]
    },
    {
     "data": {
      "image/png": "[encoded data removed]",
      "text/plain": [
       "<Figure size 324.893x200.795 with 1 Axes>"
      ]
     },
     "metadata": {},
     "output_type": "display_data"
    }
   ],
   "source": [
    "# Train\n",
    "optimizer = optax.adam(learning_rate=0.001)\n",
    "opt_state = optimizer.init(params)\n",
    "\n",
    "losses = []\n",
    "val_losses = []\n",
    "best_val_loss = np.inf\n",
    "for i in tqdm(range(10000)):\n",
    "    rng_key, subkey = random.split(rng_key)\n",
    "    loss, params, opt_state = s_model.train_step(\n",
    "        subkey, params, x, y, opt_state, optimizer)\n",
    "    # validate\n",
    "    rng_key, subkey = random.split(rng_key)\n",
    "    val_loss = s_model.compute_loss(\n",
    "        subkey, params, x_val, y_val, n_samples=1000)\n",
    "    if val_loss < best_val_loss:\n",
    "        best_val_loss = val_loss\n",
    "        best_params = params\n",
    "    val_losses.append(val_loss)\n",
    "    losses.append(loss)\n",
    "\n",
    "plt.plot(losses, label='train')\n",
    "plt.plot(val_losses, label='validation')\n",
    "plt.legend()\n",
    "plt.ylabel(\"nll\")\n",
    "plt.xlabel(\"epoch\")\n",
    "plt.show()"
   ]
  },
  {
   "cell_type": "code",
   "execution_count": 29,
   "metadata": {},
   "outputs": [
    {
     "data": {
      "text/plain": [
       "(-2.0, -1.0)"
      ]
     },
     "execution_count": 29,
     "metadata": {},
     "output_type": "execute_result"
    },
    {
     "data": {
      "image/png": "[encoded data removed]",
      "text/plain": [
       "<Figure size 324.893x200.795 with 1 Axes>"
      ]
     },
     "metadata": {},
     "output_type": "display_data"
    }
   ],
   "source": [
    "# fast overfitting\n",
    "plt.plot(losses, label='train')\n",
    "plt.plot(val_losses, label='validation')\n",
    "plt.legend()\n",
    "plt.ylabel(\"nll\")\n",
    "plt.xlabel(\"epoch\")\n",
    "plt.ylim(-2, -1.)"
   ]
  },
  {
   "cell_type": "markdown",
   "metadata": {},
   "source": [
    "#### functional diversity"
   ]
  },
  {
   "cell_type": "code",
   "execution_count": 35,
   "metadata": {},
   "outputs": [
    {
     "data": {
      "text/plain": [
       "Text(0, 0.5, 'y')"
      ]
     },
     "execution_count": 35,
     "metadata": {},
     "output_type": "execute_result"
    },
    {
     "data": {
      "image/png": "[encoded data removed]",
      "text/plain": [
       "<Figure size 324.893x200.795 with 1 Axes>"
      ]
     },
     "metadata": {},
     "output_type": "display_data"
    }
   ],
   "source": [
    "# functional diversity along curve\n",
    "t_space = jnp.linspace(0, 1, 100)\n",
    "x_lin = jnp.linspace(-3, 3, 100)[:, None]\n",
    "out = s_model(best_params['params'], t_space, x_lin).squeeze(axis=-1)\n",
    "plt.plot(x, y, 'o', label='train')\n",
    "# plt.fill_between(x.squeeze(), out.mean(axis=0) - out.std(axis=0), out.mean(axis=0) + out.std(axis=0), alpha=0.5)\n",
    "# plot lines using viridis color map\n",
    "colors = plt.cm.viridis(t_space)\n",
    "for o, c in zip(out, colors):\n",
    "    plt.plot(x_lin, o, color=c, alpha=0.3)\n",
    "plt.plot(x_lin, out.mean(axis=0), label='mean', c='red', linewidth=2, alpha=0.8)\n",
    "plt.xlabel(\"x\")\n",
    "plt.ylabel(\"y\")"
   ]
  },
  {
   "cell_type": "markdown",
   "metadata": {},
   "source": [
    "#### Loss Barier along curve"
   ]
  },
  {
   "cell_type": "code",
   "execution_count": 36,
   "metadata": {},
   "outputs": [
    {
     "name": "stdout",
     "output_type": "stream",
     "text": [
      "Mean log likelihood: 1.5597097\n"
     ]
    },
    {
     "data": {
      "image/png": "[encoded data removed]",
      "text/plain": [
       "<Figure size 324.893x200.795 with 1 Axes>"
      ]
     },
     "metadata": {},
     "output_type": "display_data"
    }
   ],
   "source": [
    "t_space = jnp.linspace(0.0, 1.0, 100000)\n",
    "nll = s_model.nll(best_params, t_space, x, y).mean(axis=-1)\n",
    "plt.plot(t_space, -nll, label='train')\n",
    "nll = s_model.nll(best_params, t_space, x_val, y_val).mean(axis=-1)\n",
    "plt.plot(t_space, -nll, label='valid')\n",
    "nll = s_model.nll(best_params, t_space, x_test_, y_test_).mean(axis=-1)\n",
    "plt.plot(t_space, -nll, label='test')\n",
    "plt.xlabel(\"t\")\n",
    "plt.ylabel(\"log like\")\n",
    "plt.legend()\n",
    "print(\"Mean log likelihood:\", -nll.mean())"
   ]
  },
  {
   "cell_type": "markdown",
   "metadata": {},
   "source": [
    "### Run sampling"
   ]
  },
  {
   "cell_type": "markdown",
   "metadata": {},
   "source": [
    "#### define transformation functions"
   ]
  },
  {
   "cell_type": "code",
   "execution_count": 42,
   "metadata": {},
   "outputs": [
    {
     "name": "stdout",
     "output_type": "stream",
     "text": [
      "Control points in phi space: (11, 10)\n"
     ]
    }
   ],
   "source": [
    "# get design matrix from curve parameters stroed as pytree\n",
    "cp_w = pytree_to_matrix(best_params['params'], k)\n",
    "# define the transformation function between weight space and phi space\n",
    "t_phi_to_weight = OrthoSpan(cp_w)\n",
    "# control points in the varphi space\n",
    "cp_phi = t_phi_to_weight.inv(cp_w)\n",
    "print(f\"Control points in phi space: {cp_phi.shape}\")"
   ]
  },
  {
   "cell_type": "code",
   "execution_count": 43,
   "metadata": {},
   "outputs": [
    {
     "name": "stdout",
     "output_type": "stream",
     "text": [
      "space_at_t0 shape (10, 10)\n",
      "Stores 26 orthogonal frames  \n",
      "with ortho frame shape (26, 10, 10)\n"
     ]
    }
   ],
   "source": [
    "from src.jax_test_model import init_t_lambda_to_phi\n",
    "\n",
    "# initialize RMF Frame\n",
    "t_lambda_to_phi, curve, d_bezier = init_t_lambda_to_phi(cp_phi,\n",
    "                                                        k,\n",
    "                                                        epsilon=25,\n",
    "                                                        tube_scale=0.1)\n",
    "\n",
    "tt = jnp.linspace(0., 1., 10_000)\n",
    "bezier_grad = jax.vmap(d_bezier)(tt)\n",
    "log_normalized_bezier_grad = jnp.log(jnp.trapezoid(\n",
    "    jnp.linalg.norm(bezier_grad, axis=-1), tt))"
   ]
  },
  {
   "cell_type": "code",
   "execution_count": 47,
   "metadata": {},
   "outputs": [
    {
     "data": {
      "image/svg+xml": [
       "<?xml version=\"1.0\" encoding=\"UTF-8\" standalone=\"no\"?>\n",
       "<!DOCTYPE svg PUBLIC \"-//W3C//DTD SVG 1.1//EN\"\n",
       " \"http://www.w3.org/Graphics/SVG/1.1/DTD/svg11.dtd\">\n",
       "<!-- Generated by graphviz version 2.43.0 (0)\n",
       " -->\n",
       "<!-- Title: %3 Pages: 1 -->\n",
       "<svg width=\"314pt\" height=\"289pt\"\n",
       " viewBox=\"0.00 0.00 314.10 289.00\" xmlns=\"http://www.w3.org/2000/svg\" xmlns:xlink=\"http://www.w3.org/1999/xlink\">\n",
       "<g id=\"graph0\" class=\"graph\" transform=\"scale(1 1) rotate(0) translate(4 285)\">\n",
       "<title>%3</title>\n",
       "<polygon fill=\"white\" stroke=\"transparent\" points=\"-4,4 -4,-285 310.1,-285 310.1,4 -4,4\"/>\n",
       "<g id=\"clust1\" class=\"cluster\">\n",
       "<title>cluster_data</title>\n",
       "<polygon fill=\"none\" stroke=\"black\" points=\"126.1,-8 126.1,-83 196.1,-83 196.1,-8 126.1,-8\"/>\n",
       "<text text-anchor=\"middle\" x=\"176.6\" y=\"-15.8\" font-family=\"Times,serif\" font-size=\"14.00\">data</text>\n",
       "</g>\n",
       "<!-- t -->\n",
       "<g id=\"node1\" class=\"node\">\n",
       "<title>t</title>\n",
       "<ellipse fill=\"white\" stroke=\"black\" cx=\"42.1\" cy=\"-232\" rx=\"27\" ry=\"18\"/>\n",
       "<text text-anchor=\"middle\" x=\"42.1\" y=\"-228.3\" font-family=\"Times,serif\" font-size=\"14.00\">t</text>\n",
       "</g>\n",
       "<!-- t_scale -->\n",
       "<g id=\"node4\" class=\"node\">\n",
       "<title>t_scale</title>\n",
       "<ellipse fill=\"grey\" stroke=\"black\" cx=\"35.1\" cy=\"-129\" rx=\"35.19\" ry=\"18\"/>\n",
       "<text text-anchor=\"middle\" x=\"35.1\" y=\"-125.3\" font-family=\"Times,serif\" font-size=\"14.00\">t_scale</text>\n",
       "</g>\n",
       "<!-- t&#45;&gt;t_scale -->\n",
       "<g id=\"edge1\" class=\"edge\">\n",
       "<title>t&#45;&gt;t_scale</title>\n",
       "<path fill=\"none\" stroke=\"black\" d=\"M40.91,-213.87C39.84,-198.41 38.24,-175.42 37,-157.41\"/>\n",
       "<polygon fill=\"black\" stroke=\"black\" points=\"40.47,-156.95 36.29,-147.22 33.49,-157.44 40.47,-156.95\"/>\n",
       "</g>\n",
       "<!-- varphi -->\n",
       "<g id=\"node5\" class=\"node\">\n",
       "<title>varphi</title>\n",
       "<ellipse fill=\"white\" stroke=\"black\" stroke-dasharray=\"5,2\" cx=\"121.1\" cy=\"-129\" rx=\"33.29\" ry=\"18\"/>\n",
       "<text text-anchor=\"middle\" x=\"121.1\" y=\"-125.3\" font-family=\"Times,serif\" font-size=\"14.00\">varphi</text>\n",
       "</g>\n",
       "<!-- t&#45;&gt;varphi -->\n",
       "<g id=\"edge2\" class=\"edge\">\n",
       "<title>t&#45;&gt;varphi</title>\n",
       "<path fill=\"none\" stroke=\"black\" d=\"M54.1,-215.66C66.95,-199.22 87.53,-172.91 102.49,-153.78\"/>\n",
       "<polygon fill=\"black\" stroke=\"black\" points=\"105.32,-155.85 108.72,-145.82 99.81,-151.54 105.32,-155.85\"/>\n",
       "</g>\n",
       "<!-- tube -->\n",
       "<g id=\"node2\" class=\"node\">\n",
       "<title>tube</title>\n",
       "<ellipse fill=\"white\" stroke=\"black\" cx=\"121.1\" cy=\"-232\" rx=\"27\" ry=\"18\"/>\n",
       "<text text-anchor=\"middle\" x=\"121.1\" y=\"-228.3\" font-family=\"Times,serif\" font-size=\"14.00\">tube</text>\n",
       "</g>\n",
       "<!-- tube&#45;&gt;varphi -->\n",
       "<g id=\"edge3\" class=\"edge\">\n",
       "<title>tube&#45;&gt;varphi</title>\n",
       "<path fill=\"none\" stroke=\"black\" d=\"M121.1,-213.87C121.1,-198.41 121.1,-175.42 121.1,-157.41\"/>\n",
       "<polygon fill=\"black\" stroke=\"black\" points=\"124.6,-157.22 121.1,-147.22 117.6,-157.22 124.6,-157.22\"/>\n",
       "</g>\n",
       "<!-- scale -->\n",
       "<g id=\"node3\" class=\"node\">\n",
       "<title>scale</title>\n",
       "<ellipse fill=\"white\" stroke=\"black\" cx=\"201.1\" cy=\"-129\" rx=\"28.7\" ry=\"18\"/>\n",
       "<text text-anchor=\"middle\" x=\"201.1\" y=\"-125.3\" font-family=\"Times,serif\" font-size=\"14.00\">scale</text>\n",
       "</g>\n",
       "<!-- obs -->\n",
       "<g id=\"node6\" class=\"node\">\n",
       "<title>obs</title>\n",
       "<ellipse fill=\"grey\" stroke=\"black\" cx=\"161.1\" cy=\"-57\" rx=\"27\" ry=\"18\"/>\n",
       "<text text-anchor=\"middle\" x=\"161.1\" y=\"-53.3\" font-family=\"Times,serif\" font-size=\"14.00\">obs</text>\n",
       "</g>\n",
       "<!-- scale&#45;&gt;obs -->\n",
       "<g id=\"edge4\" class=\"edge\">\n",
       "<title>scale&#45;&gt;obs</title>\n",
       "<path fill=\"none\" stroke=\"black\" d=\"M191.82,-111.76C186.92,-103.19 180.81,-92.49 175.33,-82.9\"/>\n",
       "<polygon fill=\"black\" stroke=\"black\" points=\"178.32,-81.09 170.32,-74.15 172.25,-84.57 178.32,-81.09\"/>\n",
       "</g>\n",
       "<!-- varphi&#45;&gt;obs -->\n",
       "<g id=\"edge5\" class=\"edge\">\n",
       "<title>varphi&#45;&gt;obs</title>\n",
       "<path fill=\"none\" stroke=\"black\" d=\"M130.58,-111.41C135.43,-102.92 141.43,-92.41 146.83,-82.96\"/>\n",
       "<polygon fill=\"black\" stroke=\"black\" points=\"150.04,-84.41 151.96,-73.99 143.96,-80.93 150.04,-84.41\"/>\n",
       "</g>\n",
       "<!-- distribution_description_node -->\n",
       "<g id=\"node7\" class=\"node\">\n",
       "<title>distribution_description_node</title>\n",
       "<text text-anchor=\"start\" x=\"174.1\" y=\"-265.8\" font-family=\"Times,serif\" font-size=\"14.00\">t ~ Uniform</text>\n",
       "<text text-anchor=\"start\" x=\"174.1\" y=\"-250.8\" font-family=\"Times,serif\" font-size=\"14.00\">tube ~ Normal</text>\n",
       "<text text-anchor=\"start\" x=\"174.1\" y=\"-235.8\" font-family=\"Times,serif\" font-size=\"14.00\">scale ~ LogNormal</text>\n",
       "<text text-anchor=\"start\" x=\"174.1\" y=\"-220.8\" font-family=\"Times,serif\" font-size=\"14.00\">t_scale ~ Unit</text>\n",
       "<text text-anchor=\"start\" x=\"174.1\" y=\"-205.8\" font-family=\"Times,serif\" font-size=\"14.00\">varphi ~ Deterministic</text>\n",
       "<text text-anchor=\"start\" x=\"174.1\" y=\"-190.8\" font-family=\"Times,serif\" font-size=\"14.00\">obs ~ Normal</text>\n",
       "</g>\n",
       "</g>\n",
       "</svg>\n"
      ],
      "text/plain": [
       "<graphviz.graphs.Digraph at 0x7cbd68db1090>"
      ]
     },
     "execution_count": 47,
     "metadata": {},
     "output_type": "execute_result"
    }
   ],
   "source": [
    "def model_tube(x, y=None, temperature=1.):\n",
    "    # prior definition\n",
    "    t = numpyro.sample(\"t\", dist.Uniform(-0.1, 1.1).expand((1,)).to_event(1))\n",
    "    tube = numpyro.sample(\"tube\", dist.Normal(\n",
    "        0., 0.5).expand((k-1,)).to_event(1))\n",
    "    scale = numpyro.sample(\"scale\", dist.LogNormal(\n",
    "            0, 1.))\n",
    "\n",
    "    # transform tube to space point\n",
    "    lambda_ = jnp.concat([t, tube], axis=-1)\n",
    "    space_point = t_lambda_to_phi(lambda_)\n",
    "    # adjust for different speed\n",
    "    t_det = jnp.linalg.norm(d_bezier(t), axis=-1)\n",
    "    numpyro.factor(\"t_scale\", jnp.log(t_det) - log_normalized_bezier_grad)\n",
    "    # transform space point to weight space\n",
    "    varphi = numpyro.deterministic('varphi', space_point)\n",
    "    weight_vec = t_phi_to_weight(varphi)\n",
    "\n",
    "    # apply model\n",
    "    def apply_model(weight_vec, x):\n",
    "        weight_pytree = vec_to_pytree(weight_vec, best_params['params']) # pass params only to define pytree structure\n",
    "        out = model.apply({'params': weight_pytree}, x)  # uses the model structure from above\n",
    "        return out\n",
    "    if weight_vec.ndim == 1:\n",
    "        out = apply_model(weight_vec, x)\n",
    "    else:\n",
    "        out = jax.vmap(apply_model, in_axes=(0, None))(weight_vec, x)\n",
    "\n",
    "    # define likelihood\n",
    "    with numpyro.plate(\"data\", x.shape[0], dim=-1):\n",
    "        with handlers.scale(scale=1/temperature):\n",
    "            numpyro.sample(\"obs\", dist.Normal(out.squeeze(-1), scale+1e-10), obs=y)\n",
    "\n",
    "numpyro.render_model(model_tube, (x,y), render_distributions=True)"
   ]
  },
  {
   "cell_type": "markdown",
   "metadata": {},
   "source": [
    "#### run MCLMC sampler using BlackJax\n",
    "\n",
    "first extract potential fn from numpyro -> then specify balckjax sampler -> run warmup /sampling"
   ]
  },
  {
   "cell_type": "code",
   "execution_count": 72,
   "metadata": {},
   "outputs": [],
   "source": [
    "from numpyro.infer.util import initialize_model\n",
    "\n",
    "# get potential_fn for blackjax\n",
    "\n",
    "\n",
    "# start with sampling -> generate potential_fn for blackjax\n",
    "rng_key, init_key = jax.random.split(rng_key)\n",
    "init_params, potential_fn, post_proc_fun, _ = initialize_model(\n",
    "    init_key,\n",
    "    # model_tube,\n",
    "    model_tube,\n",
    "    model_args=(x, y, 10.),\n",
    "    # could also set to True => potential_fn_gen(**model_args) instead of potential_fn\n",
    "    dynamic_args=False,\n",
    ")\n",
    "\n",
    "def logdensity_fn(params):\n",
    "    return -potential_fn(params)"
   ]
  },
  {
   "cell_type": "code",
   "execution_count": 73,
   "metadata": {},
   "outputs": [],
   "source": [
    "import blackjax\n",
    "from src.jax_subspace_sampling import setup_inference_chain\n",
    "\n",
    "num_chains = 10\n",
    "\n",
    "warmup_fn, run_inference = setup_inference_chain(\n",
    "    mode=\"VMAP\", num_chains=num_chains)\n",
    "\n",
    "\n",
    "def init_fn(warmup_key, initial_position, num_warmup):\n",
    "    # create an initial state for the sampler\n",
    "    initial_state = blackjax.mcmc.mclmc.init(\n",
    "        position=initial_position, logdensity_fn=logdensity_fn, rng_key=warmup_key\n",
    "    )\n",
    "\n",
    "    # build the kernel\n",
    "    def kernel(sqrt_diag_cov):\n",
    "        return blackjax.mcmc.mclmc.build_kernel(\n",
    "            logdensity_fn=logdensity_fn,\n",
    "            integrator=blackjax.mcmc.integrators.isokinetic_mclachlan,\n",
    "            sqrt_diag_cov=sqrt_diag_cov,\n",
    "        )\n",
    "\n",
    "    # find values for L and step_size\n",
    "    (\n",
    "        blackjax_state_after_tuning,\n",
    "        blackjax_mclmc_sampler_params,\n",
    "    ) = blackjax.mclmc_find_L_and_step_size(\n",
    "        mclmc_kernel=kernel,\n",
    "        num_steps=num_warmup,\n",
    "        state=initial_state,\n",
    "        rng_key=warmup_key,\n",
    "        diagonal_preconditioning=False,\n",
    "    )\n",
    "    return blackjax_state_after_tuning, blackjax_mclmc_sampler_params\n",
    "\n",
    "\n",
    "def get_kernel(parameters):\n",
    "    sampling_alg = blackjax.mclmc(\n",
    "        logdensity_fn,\n",
    "        L=parameters.L,\n",
    "        step_size=parameters.step_size\n",
    "    )\n",
    "    return sampling_alg"
   ]
  },
  {
   "cell_type": "code",
   "execution_count": 74,
   "metadata": {},
   "outputs": [
    {
     "name": "stdout",
     "output_type": "stream",
     "text": [
      "Wall time: 7.17 s\n"
     ]
    }
   ],
   "source": [
    "rng_key, init_key = jax.random.split(rng_key)\n",
    "initial_position = {'t': jax.random.uniform(init_key, (num_chains, 1), minval=0., maxval=1.),\n",
    "                    'tube': jnp.zeros((num_chains, k-1))}\n",
    "initial_position['scale'] = jnp.full((num_chains,), jnp.exp(best_params['dist_params']['log_scale']))\n",
    "\n",
    "wall_time, rng_key, last_state, parameters = warmup_fn(rng_key, initial_position, init_fn, num_warmup=1000)\n",
    "print(\"Wall time: {:.2f} s\".format(wall_time))"
   ]
  },
  {
   "cell_type": "code",
   "execution_count": 75,
   "metadata": {},
   "outputs": [
    {
     "name": "stdout",
     "output_type": "stream",
     "text": [
      "Wall time: 5.51 s\n"
     ]
    }
   ],
   "source": [
    "wall_time, rng_key, states_phi, infos_phi = run_inference(\n",
    "    get_kernel, rng_key, last_state, parameters, num_samples=1000)\n",
    "\n",
    "print(\"Wall time: {:.2f} s\".format(wall_time))"
   ]
  },
  {
   "cell_type": "code",
   "execution_count": 76,
   "metadata": {},
   "outputs": [
    {
     "data": {
      "text/plain": [
       "(10, 100, 9)"
      ]
     },
     "execution_count": 76,
     "metadata": {},
     "output_type": "execute_result"
    }
   ],
   "source": [
    "selected_states = jax.tree.map(\n",
    "    lambda x: x[:, ::10], states_phi.position) # to reduce autocorrelation\n",
    "selected_states['tube'].shape"
   ]
  },
  {
   "cell_type": "code",
   "execution_count": 77,
   "metadata": {},
   "outputs": [
    {
     "data": {
      "text/html": [
       "<div>\n",
       "<style scoped>\n",
       "    .dataframe tbody tr th:only-of-type {\n",
       "        vertical-align: middle;\n",
       "    }\n",
       "\n",
       "    .dataframe tbody tr th {\n",
       "        vertical-align: top;\n",
       "    }\n",
       "\n",
       "    .dataframe thead th {\n",
       "        text-align: right;\n",
       "    }\n",
       "</style>\n",
       "<table border=\"1\" class=\"dataframe\">\n",
       "  <thead>\n",
       "    <tr style=\"text-align: right;\">\n",
       "      <th></th>\n",
       "      <th>mean</th>\n",
       "      <th>sd</th>\n",
       "      <th>hdi_3%</th>\n",
       "      <th>hdi_97%</th>\n",
       "      <th>mcse_mean</th>\n",
       "      <th>mcse_sd</th>\n",
       "      <th>ess_bulk</th>\n",
       "      <th>ess_tail</th>\n",
       "      <th>r_hat</th>\n",
       "    </tr>\n",
       "  </thead>\n",
       "  <tbody>\n",
       "    <tr>\n",
       "      <th>scale</th>\n",
       "      <td>0.167</td>\n",
       "      <td>0.105</td>\n",
       "      <td>0.036</td>\n",
       "      <td>0.340</td>\n",
       "      <td>0.005</td>\n",
       "      <td>0.003</td>\n",
       "      <td>525.0</td>\n",
       "      <td>646.0</td>\n",
       "      <td>1.01</td>\n",
       "    </tr>\n",
       "    <tr>\n",
       "      <th>t[0]</th>\n",
       "      <td>0.470</td>\n",
       "      <td>0.357</td>\n",
       "      <td>0.013</td>\n",
       "      <td>0.976</td>\n",
       "      <td>0.050</td>\n",
       "      <td>0.036</td>\n",
       "      <td>75.0</td>\n",
       "      <td>269.0</td>\n",
       "      <td>1.11</td>\n",
       "    </tr>\n",
       "    <tr>\n",
       "      <th>tube[0]</th>\n",
       "      <td>-0.032</td>\n",
       "      <td>0.401</td>\n",
       "      <td>-0.688</td>\n",
       "      <td>0.779</td>\n",
       "      <td>0.016</td>\n",
       "      <td>0.011</td>\n",
       "      <td>609.0</td>\n",
       "      <td>785.0</td>\n",
       "      <td>1.01</td>\n",
       "    </tr>\n",
       "    <tr>\n",
       "      <th>tube[1]</th>\n",
       "      <td>-0.061</td>\n",
       "      <td>0.429</td>\n",
       "      <td>-0.873</td>\n",
       "      <td>0.727</td>\n",
       "      <td>0.018</td>\n",
       "      <td>0.013</td>\n",
       "      <td>585.0</td>\n",
       "      <td>892.0</td>\n",
       "      <td>1.01</td>\n",
       "    </tr>\n",
       "    <tr>\n",
       "      <th>tube[2]</th>\n",
       "      <td>0.020</td>\n",
       "      <td>0.415</td>\n",
       "      <td>-0.710</td>\n",
       "      <td>0.854</td>\n",
       "      <td>0.017</td>\n",
       "      <td>0.012</td>\n",
       "      <td>594.0</td>\n",
       "      <td>713.0</td>\n",
       "      <td>1.01</td>\n",
       "    </tr>\n",
       "    <tr>\n",
       "      <th>tube[3]</th>\n",
       "      <td>-0.039</td>\n",
       "      <td>0.389</td>\n",
       "      <td>-0.768</td>\n",
       "      <td>0.665</td>\n",
       "      <td>0.016</td>\n",
       "      <td>0.011</td>\n",
       "      <td>577.0</td>\n",
       "      <td>711.0</td>\n",
       "      <td>1.00</td>\n",
       "    </tr>\n",
       "    <tr>\n",
       "      <th>tube[4]</th>\n",
       "      <td>0.044</td>\n",
       "      <td>0.436</td>\n",
       "      <td>-0.747</td>\n",
       "      <td>0.881</td>\n",
       "      <td>0.018</td>\n",
       "      <td>0.013</td>\n",
       "      <td>573.0</td>\n",
       "      <td>657.0</td>\n",
       "      <td>1.02</td>\n",
       "    </tr>\n",
       "    <tr>\n",
       "      <th>tube[5]</th>\n",
       "      <td>0.030</td>\n",
       "      <td>0.427</td>\n",
       "      <td>-0.739</td>\n",
       "      <td>0.853</td>\n",
       "      <td>0.018</td>\n",
       "      <td>0.012</td>\n",
       "      <td>594.0</td>\n",
       "      <td>764.0</td>\n",
       "      <td>1.00</td>\n",
       "    </tr>\n",
       "    <tr>\n",
       "      <th>tube[6]</th>\n",
       "      <td>-0.018</td>\n",
       "      <td>0.457</td>\n",
       "      <td>-0.808</td>\n",
       "      <td>0.867</td>\n",
       "      <td>0.019</td>\n",
       "      <td>0.014</td>\n",
       "      <td>551.0</td>\n",
       "      <td>709.0</td>\n",
       "      <td>1.01</td>\n",
       "    </tr>\n",
       "    <tr>\n",
       "      <th>tube[7]</th>\n",
       "      <td>-0.020</td>\n",
       "      <td>0.423</td>\n",
       "      <td>-0.813</td>\n",
       "      <td>0.777</td>\n",
       "      <td>0.018</td>\n",
       "      <td>0.013</td>\n",
       "      <td>571.0</td>\n",
       "      <td>757.0</td>\n",
       "      <td>1.01</td>\n",
       "    </tr>\n",
       "    <tr>\n",
       "      <th>tube[8]</th>\n",
       "      <td>-0.006</td>\n",
       "      <td>0.446</td>\n",
       "      <td>-0.800</td>\n",
       "      <td>0.849</td>\n",
       "      <td>0.019</td>\n",
       "      <td>0.013</td>\n",
       "      <td>564.0</td>\n",
       "      <td>734.0</td>\n",
       "      <td>1.01</td>\n",
       "    </tr>\n",
       "    <tr>\n",
       "      <th>varphi[0]</th>\n",
       "      <td>-0.000</td>\n",
       "      <td>0.293</td>\n",
       "      <td>-0.413</td>\n",
       "      <td>0.342</td>\n",
       "      <td>0.043</td>\n",
       "      <td>0.031</td>\n",
       "      <td>59.0</td>\n",
       "      <td>347.0</td>\n",
       "      <td>1.14</td>\n",
       "    </tr>\n",
       "    <tr>\n",
       "      <th>varphi[1]</th>\n",
       "      <td>-0.073</td>\n",
       "      <td>0.124</td>\n",
       "      <td>-0.255</td>\n",
       "      <td>0.154</td>\n",
       "      <td>0.009</td>\n",
       "      <td>0.007</td>\n",
       "      <td>189.0</td>\n",
       "      <td>550.0</td>\n",
       "      <td>1.03</td>\n",
       "    </tr>\n",
       "    <tr>\n",
       "      <th>varphi[2]</th>\n",
       "      <td>-0.003</td>\n",
       "      <td>0.177</td>\n",
       "      <td>-0.367</td>\n",
       "      <td>0.287</td>\n",
       "      <td>0.014</td>\n",
       "      <td>0.010</td>\n",
       "      <td>158.0</td>\n",
       "      <td>383.0</td>\n",
       "      <td>1.04</td>\n",
       "    </tr>\n",
       "    <tr>\n",
       "      <th>varphi[3]</th>\n",
       "      <td>-0.093</td>\n",
       "      <td>0.158</td>\n",
       "      <td>-0.355</td>\n",
       "      <td>0.212</td>\n",
       "      <td>0.011</td>\n",
       "      <td>0.008</td>\n",
       "      <td>201.0</td>\n",
       "      <td>474.0</td>\n",
       "      <td>1.03</td>\n",
       "    </tr>\n",
       "    <tr>\n",
       "      <th>varphi[4]</th>\n",
       "      <td>-0.025</td>\n",
       "      <td>0.147</td>\n",
       "      <td>-0.318</td>\n",
       "      <td>0.248</td>\n",
       "      <td>0.014</td>\n",
       "      <td>0.010</td>\n",
       "      <td>119.0</td>\n",
       "      <td>311.0</td>\n",
       "      <td>1.06</td>\n",
       "    </tr>\n",
       "    <tr>\n",
       "      <th>varphi[5]</th>\n",
       "      <td>-0.015</td>\n",
       "      <td>0.117</td>\n",
       "      <td>-0.256</td>\n",
       "      <td>0.169</td>\n",
       "      <td>0.007</td>\n",
       "      <td>0.005</td>\n",
       "      <td>292.0</td>\n",
       "      <td>363.0</td>\n",
       "      <td>1.03</td>\n",
       "    </tr>\n",
       "    <tr>\n",
       "      <th>varphi[6]</th>\n",
       "      <td>-0.008</td>\n",
       "      <td>0.112</td>\n",
       "      <td>-0.212</td>\n",
       "      <td>0.175</td>\n",
       "      <td>0.011</td>\n",
       "      <td>0.007</td>\n",
       "      <td>122.0</td>\n",
       "      <td>463.0</td>\n",
       "      <td>1.06</td>\n",
       "    </tr>\n",
       "    <tr>\n",
       "      <th>varphi[7]</th>\n",
       "      <td>0.057</td>\n",
       "      <td>0.106</td>\n",
       "      <td>-0.109</td>\n",
       "      <td>0.243</td>\n",
       "      <td>0.007</td>\n",
       "      <td>0.005</td>\n",
       "      <td>225.0</td>\n",
       "      <td>491.0</td>\n",
       "      <td>1.02</td>\n",
       "    </tr>\n",
       "    <tr>\n",
       "      <th>varphi[8]</th>\n",
       "      <td>0.056</td>\n",
       "      <td>0.165</td>\n",
       "      <td>-0.175</td>\n",
       "      <td>0.396</td>\n",
       "      <td>0.011</td>\n",
       "      <td>0.008</td>\n",
       "      <td>257.0</td>\n",
       "      <td>498.0</td>\n",
       "      <td>1.03</td>\n",
       "    </tr>\n",
       "    <tr>\n",
       "      <th>varphi[9]</th>\n",
       "      <td>0.018</td>\n",
       "      <td>0.067</td>\n",
       "      <td>-0.119</td>\n",
       "      <td>0.126</td>\n",
       "      <td>0.003</td>\n",
       "      <td>0.002</td>\n",
       "      <td>451.0</td>\n",
       "      <td>576.0</td>\n",
       "      <td>1.02</td>\n",
       "    </tr>\n",
       "  </tbody>\n",
       "</table>\n",
       "</div>"
      ],
      "text/plain": [
       "            mean     sd  hdi_3%  hdi_97%  mcse_mean  mcse_sd  ess_bulk  \\\n",
       "scale      0.167  0.105   0.036    0.340      0.005    0.003     525.0   \n",
       "t[0]       0.470  0.357   0.013    0.976      0.050    0.036      75.0   \n",
       "tube[0]   -0.032  0.401  -0.688    0.779      0.016    0.011     609.0   \n",
       "tube[1]   -0.061  0.429  -0.873    0.727      0.018    0.013     585.0   \n",
       "tube[2]    0.020  0.415  -0.710    0.854      0.017    0.012     594.0   \n",
       "tube[3]   -0.039  0.389  -0.768    0.665      0.016    0.011     577.0   \n",
       "tube[4]    0.044  0.436  -0.747    0.881      0.018    0.013     573.0   \n",
       "tube[5]    0.030  0.427  -0.739    0.853      0.018    0.012     594.0   \n",
       "tube[6]   -0.018  0.457  -0.808    0.867      0.019    0.014     551.0   \n",
       "tube[7]   -0.020  0.423  -0.813    0.777      0.018    0.013     571.0   \n",
       "tube[8]   -0.006  0.446  -0.800    0.849      0.019    0.013     564.0   \n",
       "varphi[0] -0.000  0.293  -0.413    0.342      0.043    0.031      59.0   \n",
       "varphi[1] -0.073  0.124  -0.255    0.154      0.009    0.007     189.0   \n",
       "varphi[2] -0.003  0.177  -0.367    0.287      0.014    0.010     158.0   \n",
       "varphi[3] -0.093  0.158  -0.355    0.212      0.011    0.008     201.0   \n",
       "varphi[4] -0.025  0.147  -0.318    0.248      0.014    0.010     119.0   \n",
       "varphi[5] -0.015  0.117  -0.256    0.169      0.007    0.005     292.0   \n",
       "varphi[6] -0.008  0.112  -0.212    0.175      0.011    0.007     122.0   \n",
       "varphi[7]  0.057  0.106  -0.109    0.243      0.007    0.005     225.0   \n",
       "varphi[8]  0.056  0.165  -0.175    0.396      0.011    0.008     257.0   \n",
       "varphi[9]  0.018  0.067  -0.119    0.126      0.003    0.002     451.0   \n",
       "\n",
       "           ess_tail  r_hat  \n",
       "scale         646.0   1.01  \n",
       "t[0]          269.0   1.11  \n",
       "tube[0]       785.0   1.01  \n",
       "tube[1]       892.0   1.01  \n",
       "tube[2]       713.0   1.01  \n",
       "tube[3]       711.0   1.00  \n",
       "tube[4]       657.0   1.02  \n",
       "tube[5]       764.0   1.00  \n",
       "tube[6]       709.0   1.01  \n",
       "tube[7]       757.0   1.01  \n",
       "tube[8]       734.0   1.01  \n",
       "varphi[0]     347.0   1.14  \n",
       "varphi[1]     550.0   1.03  \n",
       "varphi[2]     383.0   1.04  \n",
       "varphi[3]     474.0   1.03  \n",
       "varphi[4]     311.0   1.06  \n",
       "varphi[5]     363.0   1.03  \n",
       "varphi[6]     463.0   1.06  \n",
       "varphi[7]     491.0   1.02  \n",
       "varphi[8]     498.0   1.03  \n",
       "varphi[9]     576.0   1.02  "
      ]
     },
     "execution_count": 77,
     "metadata": {},
     "output_type": "execute_result"
    }
   ],
   "source": [
    "posterior = jax.lax.map(lambda x: jax.vmap(post_proc_fun)(x), selected_states)\n",
    "samples = az.from_dict(posterior=posterior)\n",
    "summary = az.summary(samples)\n",
    "summary"
   ]
  },
  {
   "cell_type": "code",
   "execution_count": 82,
   "metadata": {},
   "outputs": [
    {
     "data": {
      "text/plain": [
       "array([<Axes: title={'center': '95.0% HDI'}>], dtype=object)"
      ]
     },
     "execution_count": 82,
     "metadata": {},
     "output_type": "execute_result"
    },
    {
     "data": {
      "image/png": "[encoded data removed]",
      "text/plain": [
       "<Figure size 600x1700 with 1 Axes>"
      ]
     },
     "metadata": {},
     "output_type": "display_data"
    }
   ],
   "source": [
    "az.plot_forest(samples, var_names=[\"t\", \"tube\", \"scale\"], combined=False, hdi_prob=0.95)"
   ]
  },
  {
   "cell_type": "code",
   "execution_count": 83,
   "metadata": {},
   "outputs": [],
   "source": [
    "def log_like_fn(x, y, posterior):\n",
    "    def single_log_like_fn(sample):\n",
    "        with handlers.seed(rng_seed=0):\n",
    "            cml = handlers.condition(model_tube, data=sample)\n",
    "            ex_trace = handlers.trace(cml).get_trace(\n",
    "                x, y, 1.)\n",
    "            site = ex_trace['obs']\n",
    "            log_like = site['fn'].log_prob(\n",
    "                site['value'])\n",
    "            return log_like\n",
    "    # return jax.vmap(jax.vmap(single_log_like_fn))(posterior)\n",
    "    return jax.vmap(lambda sample: jax.lax.map(single_log_like_fn, sample))(posterior)\n",
    "\n",
    "\n",
    "def prediction(key, x, posterior):\n",
    "    sample_keys = jax.random.split(key, num_chains)\n",
    "    def single_prediction_fn(rng_key, sample):\n",
    "        rng_key, sample_key = random.split(rng_key)\n",
    "        with handlers.seed(rng_seed=sample_key):\n",
    "            cml = handlers.condition(model_tube, data=sample)\n",
    "            ex_trace = handlers.trace(cml).get_trace(\n",
    "                x, None, 1.)\n",
    "            site = ex_trace['obs']\n",
    "            return rng_key, site['fn'].sample(sample_key)\n",
    "    key, preds = jax.vmap(lambda key, sample: jax.lax.scan(\n",
    "        single_prediction_fn, key, sample))(sample_keys, posterior) # vmap over chains and scan over samples\n",
    "    return key[-1], preds"
   ]
  },
  {
   "cell_type": "code",
   "execution_count": 84,
   "metadata": {},
   "outputs": [
    {
     "data": {
      "text/plain": [
       "Array(0.84571105, dtype=float32)"
      ]
     },
     "execution_count": 84,
     "metadata": {},
     "output_type": "execute_result"
    }
   ],
   "source": [
    "log_like = log_like_fn(x_val, y_val, posterior).reshape(-1, len(x_val))\n",
    "lppd = jnp.mean(jax.scipy.special.logsumexp(\n",
    "    log_like, axis=0) - jnp.log(log_like.shape[0]))\n",
    "del log_like\n",
    "lppd"
   ]
  },
  {
   "cell_type": "code",
   "execution_count": 85,
   "metadata": {},
   "outputs": [
    {
     "data": {
      "text/plain": [
       "Array(0.05328164, dtype=float32)"
      ]
     },
     "execution_count": 85,
     "metadata": {},
     "output_type": "execute_result"
    }
   ],
   "source": [
    "rng_key, preds = prediction(rng_key, x_val, posterior)\n",
    "rmse = jnp.sqrt(jnp.mean((preds.mean((0, 1)) - y_val) ** 2))\n",
    "del preds\n",
    "rmse"
   ]
  }
 ],
 "metadata": {
  "kernelspec": {
   "display_name": "jax_torch",
   "language": "python",
   "name": "python3"
  },
  "language_info": {
   "codemirror_mode": {
    "name": "ipython",
    "version": 3
   },
   "file_extension": ".py",
   "mimetype": "text/x-python",
   "name": "python",
   "nbconvert_exporter": "python",
   "pygments_lexer": "ipython3",
   "version": "3.11.9"
  }
 },
 "nbformat": 4,
 "nbformat_minor": 2
}
